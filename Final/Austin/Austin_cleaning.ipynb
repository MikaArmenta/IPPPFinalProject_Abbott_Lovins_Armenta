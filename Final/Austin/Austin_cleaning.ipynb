{
 "cells": [
  {
   "cell_type": "code",
   "execution_count": 100,
   "metadata": {
    "collapsed": true
   },
   "outputs": [],
   "source": [
    "import pandas as pd\n",
    "import geopandas as gpd\n",
    "import requests, json\n",
    "%matplotlib inline\n",
    "\n",
    "AAnn = pd.read_csv('Austin_Annual_Crime_Dataset_2015.csv')\n",
    "AUF2015= pd.read_csv(\"Austin_UF_R2R_2015.csv\")\n",
    "\n",
    "#When writing actual script, need to 'within line in open(...) and call directly from internet."
   ]
  },
  {
   "cell_type": "code",
   "execution_count": 123,
   "metadata": {},
   "outputs": [
    {
     "name": "stdout",
     "output_type": "stream",
     "text": [
      "Index(['AreaCommand', 'ClearanceDate', 'ClearanceStatus', 'CouncilDistrict',\n",
      "       'Council_District', 'DateOccurred', 'GOCensusTract', 'GODistrict',\n",
      "       'GOHighestOffenseDesc', 'GOLocation', 'GOLocationZip', 'GOPrimaryKey',\n",
      "       'GOReportDate', 'GOXCoordinate', 'GOYCoordinate', 'Key', 'Location',\n",
      "       'MasterSubjectID', 'NIBRS', 'NatureofContact', 'NumberShots',\n",
      "       'OfficerCommissionDate', 'OfficerEffects', 'OfficerOrganizationDesc',\n",
      "       'OfficerYrsServ', 'R2RLevel', 'RIN', 'ReasonDesc', 'SubjectConductDesc',\n",
      "       'SubjectEffects', 'SubjectEthnicity', 'SubjectRace',\n",
      "       'SubjectResistance', 'SubjectSex', 'TimeOccurred', 'WeaponUsed1',\n",
      "       'WeaponUsed2', 'WeaponUsed3', 'WeaponUsed4', 'WeaponUsed5', 'XCoord',\n",
      "       'YCoord', 'UF'],\n",
      "      dtype='object')\n",
      "['GOPrimaryKey', 'Council_District', 'GOHighestOffenseDesc', 'NIBRS', 'GOReportDate', 'GOLocation', 'ClearanceStatus', 'ClearanceDate', 'GODistrict', 'GOLocationZip', 'GOCensusTract', 'GOXCoordinate', 'GOYCoordinate']\n",
      "11\n",
      "4\n",
      "8\n",
      "18\n",
      "12\n",
      "9\n",
      "2\n",
      "1\n",
      "7\n",
      "10\n",
      "6\n",
      "13\n",
      "14\n"
     ]
    }
   ],
   "source": [
    "print(stack.keys())\n",
    "\n",
    "print(AAnnKeys)\n",
    "\n",
    "print(stack.columns.get_loc('GOPrimaryKey'))\n",
    "print(stack.columns.get_loc('Council_District'))\n",
    "print(stack.columns.get_loc('GOHighestOffenseDesc'))\n",
    "print(stack.columns.get_loc('NIBRS'))\n",
    "print(stack.columns.get_loc('GOReportDate'))\n",
    "print(stack.columns.get_loc('GOLocation'))\n",
    "\n",
    "print(stack.columns.get_loc('ClearanceStatus'))\n",
    "print(stack.columns.get_loc('ClearanceDate'))\n",
    "print(stack.columns.get_loc('GODistrict'))\n",
    "print(stack.columns.get_loc('GOLocationZip'))\n",
    "print(stack.columns.get_loc('GOCensusTract'))\n",
    "print(stack.columns.get_loc('GOXCoordinate'))\n",
    "print(stack.columns.get_loc('GOYCoordinate'))\n",
    "\n"
   ]
  },
  {
   "cell_type": "code",
   "execution_count": 238,
   "metadata": {},
   "outputs": [],
   "source": [
    "#Renaming columns\n",
    "AUF2015.rename(columns={' Primary Key': 'Key', ' Effect on Officer': ' OfficerEffects', 'Nature of Contact':'NatureOfContact', 'Officer Yrs of Service': 'OfficerYrsServ'}, inplace=True)\n",
    "AAnn.rename(columns={'HighestNIBRS/UCROffenseDescription':'NIBRS', 'CouncilDistrict': 'Council_District'}, inplace=True)\n",
    "\n",
    "#Removing spaces in column names\n",
    "AUF2015.columns = AUF2015.columns.str.replace('\\s+','')\n",
    "AAnn.columns = AAnn.columns.str.replace('\\s+','')\n",
    "\n",
    "#List of AAnn keys for referencing \n",
    "AAnnKeys = AAnn.keys().tolist()\n",
    "AAnnKeys2= [11, 4, 8, 18, 12, 9, 2, 1, 7, 10, 6, 13, 14]\n",
    "    \n",
    "#Combining datasets\n",
    "stack = pd.concat([AAnn, AUF2015], axis=0)\n",
    "\n",
    "#Removing hyphens from index names\n",
    "stack.rename(columns={'X-Coordinate':'XCoord', 'Y-Coordinate':'YCoord'}, inplace = True)\n",
    "\n",
    "#Creating Boolean for UF incidents\n",
    "stack['UF'] = stack['AreaCommand'].isnull()\n",
    "\n",
    "#Copying the info from the AAnn report into the row with the AUF2015 report. \n",
    "for r in stack['Key'].isin(dupkeylist):\n",
    "    if r == True:\n",
    "        for x in AAnnKeys:\n",
    "            stack[x].fillna(AAnn[x], inplace = True)\n",
    "\n",
    "#Merging key and council district info\n",
    "stack['Key'].fillna(stack['GOPrimaryKey'], inplace=True)\n",
    "stack.drop(['GOPrimaryKey'], axis = 1, inplace = True)\n",
    "\n",
    "stack['CouncilDistrict'].fillna(stack['Council_District'], inplace=True)\n",
    "stack.drop(['Council_District'], axis = 1, inplace = True)\n",
    "\n",
    "stack['XCoord'].fillna(stack['GOXCoordinate'], inplace=True)\n",
    "stack.drop(['GOXCoordinate'], axis = 1, inplace = True)\n",
    "\n",
    "stack['YCoord'].fillna(stack['GOYCoordinate'], inplace=True)\n",
    "stack.drop(['GOYCoordinate'], axis = 1, inplace = True)\n",
    "\n",
    "#Dropping the crime reports that are present in both AAnn and AUF2015\n",
    "stack = stack.drop_duplicates(subset='Key', keep='last', inplace = False)\n",
    "\n",
    "#Reordering index for ease of navigating dataset\n",
    "stack = stack.reindex_axis(['Key','CouncilDistrict','UF','XCoord','YCoord','RIN',\n",
    "                            'DateOccurred','TimeOccurred','ClearanceDate', 'GOReportDate',\n",
    "                            'R2RLevel','NIBRS','AreaCommand',  'Location', 'GOCensusTract',\n",
    "                            'GODistrict','GOLocation','GOLocationZip','OfficerEffects','OfficerCommissionDate',\n",
    "                            'OfficerYrsServ', 'OfficerOrganizationDesc', 'ReasonDesc','SubjectConductDesc', 'SubjectEffects',\n",
    "                            'SubjectEthnicity', 'SubjectRace', 'SubjectResistance', 'SubjectSex', 'NatureOfContact',\n",
    "                            'GOHighestOffenseDesc', 'NumberShots', 'WeaponUsed1', 'WeaponUsed2', 'WeaponUsed3', 'WeaponUsed4',\n",
    "                            'WeaponUsed5', 'ClearanceStatus','MasterSubjectID'], axis=1)\n",
    "\n",
    "\n",
    "#Sorting by council district\n",
    "#stack.sort_values(('CouncilDistrict'), inplace = True)\n",
    "\n",
    "#Resetting index to Key\n",
    "#stack.set_index(['Key'], drop = False, inplace = True)\n",
    "\n",
    "#Saving to csv\n",
    "#stack.to_csv('stack.csv')\n",
    "\n",
    "#Saving to csv\n",
    "#stack.to_csv('stack_testC.csv')\n"
   ]
  },
  {
   "cell_type": "code",
   "execution_count": 239,
   "metadata": {},
   "outputs": [
    {
     "name": "stdout",
     "output_type": "stream",
     "text": [
      "41875\n",
      "3302\n",
      "38573\n",
      "192\n"
     ]
    },
    {
     "data": {
      "text/plain": [
       "41683"
      ]
     },
     "execution_count": 239,
     "metadata": {},
     "output_type": "execute_result"
    }
   ],
   "source": [
    "print(len(stack))\n",
    "print(len(AUF2015))\n",
    "print(len(AAnn))\n",
    "print(len(dupkeylist))\n",
    "\n",
    "(len(AAnn) + len(AUF2015)) - (192)"
   ]
  },
  {
   "cell_type": "code",
   "execution_count": null,
   "metadata": {
    "collapsed": true
   },
   "outputs": [],
   "source": [
    "#Find the length of the falses in stacks\n",
    "#Find length of the trues\n",
    "\n",
    "#Compare these to the lengths of the orginial AAnn and AUF2015\n",
    "\n",
    "#Find the Falses where there are NaNs in a GO column"
   ]
  },
  {
   "cell_type": "code",
   "execution_count": 188,
   "metadata": {},
   "outputs": [
    {
     "data": {
      "text/plain": [
       "0       False\n",
       "1       False\n",
       "2       False\n",
       "3       False\n",
       "4       False\n",
       "5       False\n",
       "6       False\n",
       "7       False\n",
       "8       False\n",
       "9       False\n",
       "10      False\n",
       "11      False\n",
       "12      False\n",
       "13      False\n",
       "14      False\n",
       "15      False\n",
       "16      False\n",
       "17      False\n",
       "18      False\n",
       "19      False\n",
       "20      False\n",
       "21      False\n",
       "22      False\n",
       "23      False\n",
       "24      False\n",
       "25      False\n",
       "26      False\n",
       "27      False\n",
       "28      False\n",
       "29      False\n",
       "        ...  \n",
       "3272    False\n",
       "3273    False\n",
       "3274    False\n",
       "3275    False\n",
       "3276    False\n",
       "3277    False\n",
       "3278    False\n",
       "3279    False\n",
       "3280    False\n",
       "3281    False\n",
       "3282    False\n",
       "3283    False\n",
       "3284    False\n",
       "3285    False\n",
       "3286    False\n",
       "3287    False\n",
       "3288    False\n",
       "3289    False\n",
       "3290     True\n",
       "3291    False\n",
       "3292    False\n",
       "3293    False\n",
       "3294    False\n",
       "3295    False\n",
       "3296    False\n",
       "3297    False\n",
       "3298    False\n",
       "3299    False\n",
       "3300    False\n",
       "3301    False\n",
       "Name: Key, Length: 41875, dtype: bool"
      ]
     },
     "execution_count": 188,
     "metadata": {},
     "output_type": "execute_result"
    }
   ],
   "source": [
    "stack['Key'].isin(dupkeylist)"
   ]
  },
  {
   "cell_type": "code",
   "execution_count": null,
   "metadata": {},
   "outputs": [],
   "source": []
  },
  {
   "cell_type": "code",
   "execution_count": null,
   "metadata": {
    "collapsed": true
   },
   "outputs": [],
   "source": []
  },
  {
   "cell_type": "code",
   "execution_count": 148,
   "metadata": {
    "collapsed": true
   },
   "outputs": [
    {
     "data": {
      "text/html": [
       "<div>\n",
       "<style>\n",
       "    .dataframe thead tr:only-child th {\n",
       "        text-align: right;\n",
       "    }\n",
       "\n",
       "    .dataframe thead th {\n",
       "        text-align: left;\n",
       "    }\n",
       "\n",
       "    .dataframe tbody tr th {\n",
       "        vertical-align: top;\n",
       "    }\n",
       "</style>\n",
       "<table border=\"1\" class=\"dataframe\">\n",
       "  <thead>\n",
       "    <tr style=\"text-align: right;\">\n",
       "      <th></th>\n",
       "      <th>Key</th>\n",
       "      <th>CouncilDistrict</th>\n",
       "      <th>UF</th>\n",
       "      <th>XCoord</th>\n",
       "      <th>YCoord</th>\n",
       "      <th>RIN</th>\n",
       "      <th>DateOccurred</th>\n",
       "      <th>TimeOccurred</th>\n",
       "      <th>ClearanceDate</th>\n",
       "      <th>GOReportDate</th>\n",
       "      <th>...</th>\n",
       "      <th>NatureOfContact</th>\n",
       "      <th>GOHighestOffenseDesc</th>\n",
       "      <th>NumberShots</th>\n",
       "      <th>WeaponUsed1</th>\n",
       "      <th>WeaponUsed2</th>\n",
       "      <th>WeaponUsed3</th>\n",
       "      <th>WeaponUsed4</th>\n",
       "      <th>WeaponUsed5</th>\n",
       "      <th>ClearanceStatus</th>\n",
       "      <th>MasterSubjectID</th>\n",
       "    </tr>\n",
       "  </thead>\n",
       "  <tbody>\n",
       "    <tr>\n",
       "      <th>3292</th>\n",
       "      <td>2.015364e+10</td>\n",
       "      <td>9.0</td>\n",
       "      <td>False</td>\n",
       "      <td>3115522.0</td>\n",
       "      <td>10070515.0</td>\n",
       "      <td>170264.0</td>\n",
       "      <td>12/30/2015 12:00:00 AM</td>\n",
       "      <td>0245</td>\n",
       "      <td>3-Feb-15</td>\n",
       "      <td>2-Feb-15</td>\n",
       "      <td>...</td>\n",
       "      <td>NaN</td>\n",
       "      <td>THEFT</td>\n",
       "      <td>NaN</td>\n",
       "      <td>WEAPONLESS (PRESSURE POINTS/KICKS/HAND)</td>\n",
       "      <td>NaN</td>\n",
       "      <td>NaN</td>\n",
       "      <td>NaN</td>\n",
       "      <td>NaN</td>\n",
       "      <td>N</td>\n",
       "      <td>459357086: 20153640113</td>\n",
       "    </tr>\n",
       "    <tr>\n",
       "      <th>3296</th>\n",
       "      <td>2.015365e+10</td>\n",
       "      <td>9.0</td>\n",
       "      <td>False</td>\n",
       "      <td>3115416.0</td>\n",
       "      <td>10070416.0</td>\n",
       "      <td>169873.0</td>\n",
       "      <td>12/31/2015 12:00:00 AM</td>\n",
       "      <td></td>\n",
       "      <td>12-Feb-15</td>\n",
       "      <td>2-Feb-15</td>\n",
       "      <td>...</td>\n",
       "      <td>NaN</td>\n",
       "      <td>THEFT</td>\n",
       "      <td>NaN</td>\n",
       "      <td>CHEMICAL AGENT - O C SPRAY</td>\n",
       "      <td>NaN</td>\n",
       "      <td>NaN</td>\n",
       "      <td>NaN</td>\n",
       "      <td>NaN</td>\n",
       "      <td>N</td>\n",
       "      <td>211288398: 20153652230</td>\n",
       "    </tr>\n",
       "    <tr>\n",
       "      <th>3298</th>\n",
       "      <td>2.015365e+10</td>\n",
       "      <td>1.0</td>\n",
       "      <td>False</td>\n",
       "      <td>3121574.0</td>\n",
       "      <td>10071826.0</td>\n",
       "      <td>170006.0</td>\n",
       "      <td>12/31/2015 12:00:00 AM</td>\n",
       "      <td>1550</td>\n",
       "      <td>16-Mar-15</td>\n",
       "      <td>2-Feb-15</td>\n",
       "      <td>...</td>\n",
       "      <td>NaN</td>\n",
       "      <td>THEFT</td>\n",
       "      <td>NaN</td>\n",
       "      <td>WEAPONLESS (PRESSURE POINTS/KICKS/HAND)</td>\n",
       "      <td>NaN</td>\n",
       "      <td>NaN</td>\n",
       "      <td>NaN</td>\n",
       "      <td>NaN</td>\n",
       "      <td>N</td>\n",
       "      <td>458987405: 20153650995</td>\n",
       "    </tr>\n",
       "    <tr>\n",
       "      <th>3299</th>\n",
       "      <td>2.015365e+10</td>\n",
       "      <td>3.0</td>\n",
       "      <td>False</td>\n",
       "      <td>3117764.0</td>\n",
       "      <td>10056344.0</td>\n",
       "      <td>170046.0</td>\n",
       "      <td>12/31/2015 12:00:00 AM</td>\n",
       "      <td>2337</td>\n",
       "      <td>11-Mar-15</td>\n",
       "      <td>2-Feb-15</td>\n",
       "      <td>...</td>\n",
       "      <td>NaN</td>\n",
       "      <td>THEFT</td>\n",
       "      <td>NaN</td>\n",
       "      <td>WEAPONLESS (PRESSURE POINTS/KICKS/HAND)</td>\n",
       "      <td>NaN</td>\n",
       "      <td>NaN</td>\n",
       "      <td>NaN</td>\n",
       "      <td>NaN</td>\n",
       "      <td>N</td>\n",
       "      <td>459358256: 20153651957</td>\n",
       "    </tr>\n",
       "    <tr>\n",
       "      <th>3301</th>\n",
       "      <td>2.015365e+10</td>\n",
       "      <td>8.0</td>\n",
       "      <td>False</td>\n",
       "      <td>3074396.0</td>\n",
       "      <td>10053463.0</td>\n",
       "      <td>170104.0</td>\n",
       "      <td>12/31/2015 12:00:00 AM</td>\n",
       "      <td>1353</td>\n",
       "      <td>28-Apr-15</td>\n",
       "      <td>2-Feb-15</td>\n",
       "      <td>...</td>\n",
       "      <td>NaN</td>\n",
       "      <td>BREACH OF COMPUTER SECURITY</td>\n",
       "      <td>NaN</td>\n",
       "      <td>WEAPONLESS (PRESSURE POINTS/KICKS/HAND)</td>\n",
       "      <td>NaN</td>\n",
       "      <td>NaN</td>\n",
       "      <td>NaN</td>\n",
       "      <td>NaN</td>\n",
       "      <td>N</td>\n",
       "      <td>253427997: 20153650763</td>\n",
       "    </tr>\n",
       "  </tbody>\n",
       "</table>\n",
       "<p>5 rows × 39 columns</p>\n",
       "</div>"
      ],
      "text/plain": [
       "               Key  CouncilDistrict     UF     XCoord      YCoord       RIN  \\\n",
       "3292  2.015364e+10              9.0  False  3115522.0  10070515.0  170264.0   \n",
       "3296  2.015365e+10              9.0  False  3115416.0  10070416.0  169873.0   \n",
       "3298  2.015365e+10              1.0  False  3121574.0  10071826.0  170006.0   \n",
       "3299  2.015365e+10              3.0  False  3117764.0  10056344.0  170046.0   \n",
       "3301  2.015365e+10              8.0  False  3074396.0  10053463.0  170104.0   \n",
       "\n",
       "                DateOccurred TimeOccurred ClearanceDate GOReportDate  \\\n",
       "3292  12/30/2015 12:00:00 AM         0245      3-Feb-15     2-Feb-15   \n",
       "3296  12/31/2015 12:00:00 AM                  12-Feb-15     2-Feb-15   \n",
       "3298  12/31/2015 12:00:00 AM         1550     16-Mar-15     2-Feb-15   \n",
       "3299  12/31/2015 12:00:00 AM         2337     11-Mar-15     2-Feb-15   \n",
       "3301  12/31/2015 12:00:00 AM         1353     28-Apr-15     2-Feb-15   \n",
       "\n",
       "               ...            NatureOfContact            GOHighestOffenseDesc  \\\n",
       "3292           ...                        NaN  THEFT                            \n",
       "3296           ...                        NaN  THEFT                            \n",
       "3298           ...                        NaN  THEFT                            \n",
       "3299           ...                        NaN  THEFT                            \n",
       "3301           ...                        NaN  BREACH OF COMPUTER SECURITY      \n",
       "\n",
       "     NumberShots                              WeaponUsed1  WeaponUsed2  \\\n",
       "3292         NaN  WEAPONLESS (PRESSURE POINTS/KICKS/HAND)          NaN   \n",
       "3296         NaN               CHEMICAL AGENT - O C SPRAY          NaN   \n",
       "3298         NaN  WEAPONLESS (PRESSURE POINTS/KICKS/HAND)          NaN   \n",
       "3299         NaN  WEAPONLESS (PRESSURE POINTS/KICKS/HAND)          NaN   \n",
       "3301         NaN  WEAPONLESS (PRESSURE POINTS/KICKS/HAND)          NaN   \n",
       "\n",
       "     WeaponUsed3 WeaponUsed4  WeaponUsed5 ClearanceStatus  \\\n",
       "3292         NaN         NaN          NaN               N   \n",
       "3296         NaN         NaN          NaN               N   \n",
       "3298         NaN         NaN          NaN               N   \n",
       "3299         NaN         NaN          NaN               N   \n",
       "3301         NaN         NaN          NaN               N   \n",
       "\n",
       "             MasterSubjectID  \n",
       "3292  459357086: 20153640113  \n",
       "3296  211288398: 20153652230  \n",
       "3298  458987405: 20153650995  \n",
       "3299  459358256: 20153651957  \n",
       "3301  253427997: 20153650763  \n",
       "\n",
       "[5 rows x 39 columns]"
      ]
     },
     "execution_count": 148,
     "metadata": {},
     "output_type": "execute_result"
    }
   ],
   "source": []
  },
  {
   "cell_type": "code",
   "execution_count": null,
   "metadata": {
    "collapsed": true
   },
   "outputs": [],
   "source": []
  },
  {
   "cell_type": "code",
   "execution_count": 94,
   "metadata": {},
   "outputs": [
    {
     "data": {
      "text/plain": [
       "['GO Primary Key',\n",
       " 'Council District',\n",
       " 'GO Highest Offense Desc',\n",
       " 'Highest NIBRS/UCR Offense Description',\n",
       " 'GO Report Date',\n",
       " 'GO Location',\n",
       " 'Clearance Status',\n",
       " 'Clearance Date',\n",
       " 'GO District',\n",
       " 'GO Location Zip',\n",
       " 'GO Census Tract',\n",
       " 'GO X Coordinate',\n",
       " 'GO Y Coordinate']"
      ]
     },
     "execution_count": 94,
     "metadata": {},
     "output_type": "execute_result"
    }
   ],
   "source": [
    "AAnnKeys = AAnn.keys().tolist()\n",
    "AAnnKeys"
   ]
  },
  {
   "cell_type": "code",
   "execution_count": 92,
   "metadata": {},
   "outputs": [
    {
     "name": "stdout",
     "output_type": "stream",
     "text": [
      "Index(['AreaCommand', 'DateOccurred', 'OfficerEffects', 'Location',\n",
      "       'NatureOfContact', 'NumberShots', 'OfficerCommissionDate',\n",
      "       'OfficerOrganizationDesc', 'Key', 'R2RLevel', 'RIN', 'ReasonDesc',\n",
      "       'SubjectConductDesc', 'SubjectEffects', 'SubjectEthnicity',\n",
      "       'SubjectRace', 'SubjectResistance', 'SubjectSex', 'TimeOccurred',\n",
      "       'WeaponUsed1', 'WeaponUsed2', 'WeaponUsed4', 'WeaponUsed5', 'XCoord',\n",
      "       'YCoord', 'ClearanceDate', 'ClearanceStatus', 'CouncilDistrict',\n",
      "       'GOCensusTract', 'GODistrict', 'GOHighestOffenseDesc', 'GOLocation',\n",
      "       'GOLocationZip', 'GOReportDate', 'NIBRS', 'MasterSubjectID',\n",
      "       'OfficerYrsServ', 'WeaponUsed3', 'UF'],\n",
      "      dtype='object')\n"
     ]
    }
   ],
   "source": [
    "print(stack.keys())\n",
    "#print(AAnn.keys())\n",
    "#24\n",
    "#stack.iloc[:, 23:42]"
   ]
  },
  {
   "cell_type": "code",
   "execution_count": 26,
   "metadata": {},
   "outputs": [
    {
     "data": {
      "text/plain": [
       "array(['STS', 'C3 UT-2', 'ADAM 1', 'FRANK 3', 'DAVID 2', 'DAVID 3',\n",
       "       'GEORGE 2', 'B4 UT', 'C3 UT-3', 'HENRY 1', 'GEORGE 4', 'IDA 2',\n",
       "       'HENRY 4', 'HENRY 3', 'GEORGE 5', 'ADAM 4', 'BAKER 4', 'PUBLIC',\n",
       "       'LND', 'A1 UT', 'CHARLIE 3', 'BAKER 3', 'BAKER PARK PD', 'FRANK 2',\n",
       "       'DAVID 4', 'EDWARD 3', 'IDA 1', 'STP', 'HENRY 2', 'MTP', 'AOA',\n",
       "       'FRANK 1', 'DAVID 1', 'GEORGE 1', 'CHARLIE 4', 'CHARLIE 1',\n",
       "       'BAKER 1', 'FRANK 4', 'CHARLIE 2', 'ADAM 3', 'BAKER 2', 'GEORGE 3',\n",
       "       'EDWARD 1', 'EDWARD 4', 'MTS', 'IDA 3', 'B1 UT-2', 'ADAM 2',\n",
       "       'EDWARD 2', 'B1 UT-1', 'IDA 4', 'DAVID PARK PD', 'C3 UT-1'], dtype=object)"
      ]
     },
     "execution_count": 26,
     "metadata": {},
     "output_type": "execute_result"
    }
   ],
   "source": [
    "APDdis=gpd.read_file(\"APD Districts.geojson\")\n",
    "AUF2015.head(5)\n",
    "\n",
    "APDdis.head(2)\n",
    "APDdis.district_name.unique()\n",
    "#SMC= gpd.read_file(\"Single Member Council Districts.geojson\")\n",
    "SMC.plot()\n",
    "#APDdis"
   ]
  },
  {
   "cell_type": "code",
   "execution_count": null,
   "metadata": {},
   "outputs": [],
   "source": []
  },
  {
   "cell_type": "code",
   "execution_count": null,
   "metadata": {},
   "outputs": [],
   "source": []
  },
  {
   "cell_type": "code",
   "execution_count": null,
   "metadata": {},
   "outputs": [],
   "source": [
    "\n"
   ]
  },
  {
   "cell_type": "code",
   "execution_count": 70,
   "metadata": {},
   "outputs": [
    {
     "name": "stdout",
     "output_type": "stream",
     "text": [
      "Index(['RIN', 'PrimaryKey', 'DateOccurred', 'TimeOccurred', 'Location',\n",
      "       'AreaCommand', 'NatureofContact', 'ReasonDesc', 'R2RLevel',\n",
      "       'MasterSubjectID', 'SubjectSex', 'SubjectRace', 'SubjectEthnicity',\n",
      "       'SubjectConductDesc', 'SubjectResistance', 'WeaponUsed1', 'WeaponUsed2',\n",
      "       'WeaponUsed3', 'WeaponUsed4', 'WeaponUsed5', 'NumberShots',\n",
      "       'SubjectEffects', 'EffectonOfficer', 'OfficerOrganizationDesc',\n",
      "       'OfficerCommissionDate', 'OfficerYrsofService', 'X-Coordinate',\n",
      "       'Y-Coordinate', 'CouncilDistrict'],\n",
      "      dtype='object')\n",
      "Index(['GOPrimaryKey', 'CouncilDistrict', 'GOHighestOffenseDesc',\n",
      "       'HighestNIBRS/UCROffenseDescription', 'GOReportDate', 'GOLocation',\n",
      "       'ClearanceStatus', 'ClearanceDate', 'GODistrict', 'GOLocationZip',\n",
      "       'GOCensusTract', 'GOXCoordinate', 'GOYCoordinate'],\n",
      "      dtype='object')\n"
     ]
    }
   ],
   "source": [
    "#Removing white space from AUF2015 and AAnn keys. \n",
    "\n",
    "AUF2015.columns = AUF2015.columns.str.replace('\\s+','')\n",
    "print(AUF2015.keys())\n",
    "AAnn.columns = AAnn.columns.str.replace('\\s+','')\n",
    "print(AAnn.keys())"
   ]
  },
  {
   "cell_type": "code",
   "execution_count": 163,
   "metadata": {},
   "outputs": [
    {
     "name": "stdout",
     "output_type": "stream",
     "text": [
      "[20152811520, 20152650246, 20152220678, 20152860682, 20152071178, 20151991821, 20151411727, 20151260176, 2015490066, 20153001492, 20151370776, 20152261144, 2015190045, 20151790622, 20151241249, 20152630305, 20153441827, 2015730212, 20152350249, 2015390765, 2015351350, 20153251387, 20153501247, 2015360578, 2015641667, 20152630338, 20152090184, 20151832142, 2015110225, 20151361107, 20151161429, 2015872086, 20151860826, 20152240220, 20151320161, 20152830053, 20151940198, 20152390249, 20151221865, 2015520363, 20152391788, 20153150061, 20151500403, 20151420020, 2015510647, 2015100025, 2015431291, 2015141501, 20153221764, 2015960708, 20152280714, 201580171, 20151390349, 20153121425, 20151590554, 20153290912, 20152910497, 20153620645, 20153371304, 20152930473, 20152940202, 20151830188, 20151370416, 20151731897, 20152471738, 20152320190, 20153450174, 20151790272, 20151371969, 20152450248, 20153621197, 20151290063, 20151492303, 20151000276, 20151051991, 20151721693, 20151141090, 20152471269, 20152430823, 20151021803, 2015692012, 20152690414, 20151800046, 20151161071, 20153581297, 20152050419, 20152341747, 2015770871, 20153010941, 2015570175, 20151280895, 2015410948, 20152280840, 2015650058, 20151580427, 20152402188, 20151951118, 20151712017, 20153641746, 20151791380, 20152501016, 20151601945, 2015381788, 20152031005, 20153391900, 20152181025, 20152381729, 20153251621, 20152270629, 20151690029, 20151600951, 2015391544, 2015291705, 20153080121, 2015790395, 20152851773, 2015481668, 20152540999, 20152131913, 2015911242, 20152640334, 20153510228, 20151531349, 2015760728, 2015170395, 2015421788, 20151111004, 20151161696, 20151150434, 2015341411, 20152631140, 20152080239, 20153471344, 20152372082, 20153081202, 20151801719, 20152510331, 20151551867, 20153460610, 20153480067, 20153260930, 20152170373, 20153231750, 20153380743, 2015551369, 20153410447, 20153041808, 2015721359, 20153051541, 2015410072, 20153231258, 2015360922, 20151731617, 20153231780, 20151301029, 2015961510, 2015410596, 20153241512, 20151050153, 20153471403, 20152291247, 20152820656, 20151421365, 20152821686, 20152471478, 2015921592, 20152701370, 2015751611, 20153430974, 20152500672, 2015881664, 20153420737, 20152231370, 2015300554, 2015231439, 2015400915, 20151401945, 20155028443, 20152700381, 2015161823, 2015820767, 20153020389, 20152441829, 20153160170, 20152500717, 20152551407, 2015601136, 2015870452, 2015921653, 2015661049, 20152450043, 20153141758]\n"
     ]
    }
   ],
   "source": [
    "#Creating dictionary of common keys (incident identifiers) between datasets\n",
    "AAnn.keys()\n",
    "\n",
    "DupKey=set(AAnn['GOPrimaryKey']) & set(AUF2015['Key'])\n",
    "KeyDict = dict.fromkeys(DupKey)\n",
    "#print(KeyDict)\n",
    "dupkey = KeyDict.keys()\n",
    "dupkeylist = list(dupkey)\n",
    "print(dupkeylist)"
   ]
  },
  {
   "cell_type": "code",
   "execution_count": null,
   "metadata": {
    "collapsed": true
   },
   "outputs": [],
   "source": [
    "#Just some info for us:\n",
    "\n",
    "print('There are', len(set(AAnn['GOPrimaryKey'])), 'incidents in AAnn 2015 annual crime')\n",
    "print('There are', len(set(AUF2015['PrimaryKey'])), 'incidents in AUF2015 use of force')\n",
    "print('There are', len(KeyDict),'common incidents between AAnn and AUF2015')\n",
    "PercentCommonFromUF= len(KeyDict)/(len(set(AUF2015['PrimaryKey'])))\n",
    "print('This means', PercentCommonFromUF, '% of UF incidents are recorded in AAnn annual crime dataset.')\n",
    "\n",
    "    "
   ]
  },
  {
   "cell_type": "code",
   "execution_count": null,
   "metadata": {},
   "outputs": [],
   "source": []
  },
  {
   "cell_type": "code",
   "execution_count": null,
   "metadata": {},
   "outputs": [],
   "source": []
  },
  {
   "cell_type": "code",
   "execution_count": 234,
   "metadata": {},
   "outputs": [
    {
     "name": "stdout",
     "output_type": "stream",
     "text": [
      "40062\n",
      "3302\n",
      "38573\n",
      "192\n"
     ]
    },
    {
     "data": {
      "text/plain": [
       "41683"
      ]
     },
     "execution_count": 234,
     "metadata": {},
     "output_type": "execute_result"
    }
   ],
   "source": []
  },
  {
   "cell_type": "code",
   "execution_count": 92,
   "metadata": {
    "collapsed": true
   },
   "outputs": [],
   "source": [
    "#Finding NaNs in datasets\n",
    "\n",
    "#How many NaNs are in each column?\n",
    "AAnn.isnull().sum()\n",
    "AUF2015.isnull().sum()\n",
    "\n",
    "#Create table of rows with NaNs\n",
    "AAnn_nan_rows = AAnn[AAnn.isnull().T.any().T]\n",
    "AUF2015_nan_rows = AUF2015[AUF2015.isnull().T.any().T]\n",
    "\n",
    "#Where specifically are the NaNs? Create table of Boolean true/false. True = NaN\n",
    "#False = not a NaN\n",
    "AnnNaNLoc= AAnn.isnull()\n",
    "AUF2015NanLoc= AUF2015.isnull()\n"
   ]
  },
  {
   "cell_type": "code",
   "execution_count": 2,
   "metadata": {},
   "outputs": [
    {
     "ename": "KeyError",
     "evalue": "'GOPrimaryKey'",
     "output_type": "error",
     "traceback": [
      "\u001b[1;31m---------------------------------------------------------------------------\u001b[0m",
      "\u001b[1;31mKeyError\u001b[0m                                  Traceback (most recent call last)",
      "\u001b[1;32mC:\\Users\\mikaa\\Anaconda3\\lib\\site-packages\\pandas\\core\\indexes\\base.py\u001b[0m in \u001b[0;36mget_loc\u001b[1;34m(self, key, method, tolerance)\u001b[0m\n\u001b[0;32m   2392\u001b[0m             \u001b[1;32mtry\u001b[0m\u001b[1;33m:\u001b[0m\u001b[1;33m\u001b[0m\u001b[0m\n\u001b[1;32m-> 2393\u001b[1;33m                 \u001b[1;32mreturn\u001b[0m \u001b[0mself\u001b[0m\u001b[1;33m.\u001b[0m\u001b[0m_engine\u001b[0m\u001b[1;33m.\u001b[0m\u001b[0mget_loc\u001b[0m\u001b[1;33m(\u001b[0m\u001b[0mkey\u001b[0m\u001b[1;33m)\u001b[0m\u001b[1;33m\u001b[0m\u001b[0m\n\u001b[0m\u001b[0;32m   2394\u001b[0m             \u001b[1;32mexcept\u001b[0m \u001b[0mKeyError\u001b[0m\u001b[1;33m:\u001b[0m\u001b[1;33m\u001b[0m\u001b[0m\n",
      "\u001b[1;32mpandas\\_libs\\index.pyx\u001b[0m in \u001b[0;36mpandas._libs.index.IndexEngine.get_loc (pandas\\_libs\\index.c:5239)\u001b[1;34m()\u001b[0m\n",
      "\u001b[1;32mpandas\\_libs\\index.pyx\u001b[0m in \u001b[0;36mpandas._libs.index.IndexEngine.get_loc (pandas\\_libs\\index.c:5085)\u001b[1;34m()\u001b[0m\n",
      "\u001b[1;32mpandas\\_libs\\hashtable_class_helper.pxi\u001b[0m in \u001b[0;36mpandas._libs.hashtable.PyObjectHashTable.get_item (pandas\\_libs\\hashtable.c:20405)\u001b[1;34m()\u001b[0m\n",
      "\u001b[1;32mpandas\\_libs\\hashtable_class_helper.pxi\u001b[0m in \u001b[0;36mpandas._libs.hashtable.PyObjectHashTable.get_item (pandas\\_libs\\hashtable.c:20359)\u001b[1;34m()\u001b[0m\n",
      "\u001b[1;31mKeyError\u001b[0m: 'GOPrimaryKey'",
      "\nDuring handling of the above exception, another exception occurred:\n",
      "\u001b[1;31mKeyError\u001b[0m                                  Traceback (most recent call last)",
      "\u001b[1;32m<ipython-input-2-d943b7a90c67>\u001b[0m in \u001b[0;36m<module>\u001b[1;34m()\u001b[0m\n\u001b[0;32m     13\u001b[0m \u001b[1;33m\u001b[0m\u001b[0m\n\u001b[0;32m     14\u001b[0m \u001b[1;31m#AAnn\u001b[0m\u001b[1;33m\u001b[0m\u001b[1;33m\u001b[0m\u001b[0m\n\u001b[1;32m---> 15\u001b[1;33m \u001b[0mAAnn_nan_rows_GOPrimaryKey\u001b[0m \u001b[1;33m=\u001b[0m \u001b[0mAAnn\u001b[0m\u001b[1;33m[\u001b[0m\u001b[0mAAnn\u001b[0m\u001b[1;33m[\u001b[0m\u001b[1;34m'GOPrimaryKey'\u001b[0m\u001b[1;33m]\u001b[0m\u001b[1;33m.\u001b[0m\u001b[0misnull\u001b[0m\u001b[1;33m(\u001b[0m\u001b[1;33m)\u001b[0m\u001b[1;33m]\u001b[0m\u001b[1;33m\u001b[0m\u001b[0m\n\u001b[0m\u001b[0;32m     16\u001b[0m \u001b[0mAAnn_nan_rows_GOHighestOffenseDesc\u001b[0m \u001b[1;33m=\u001b[0m \u001b[0mAAnn\u001b[0m\u001b[1;33m[\u001b[0m\u001b[0mAAnn\u001b[0m\u001b[1;33m[\u001b[0m\u001b[1;34m'GOHighestOffenseDesc'\u001b[0m\u001b[1;33m]\u001b[0m\u001b[1;33m.\u001b[0m\u001b[0misnull\u001b[0m\u001b[1;33m(\u001b[0m\u001b[1;33m)\u001b[0m\u001b[1;33m]\u001b[0m\u001b[1;33m\u001b[0m\u001b[0m\n\u001b[0;32m     17\u001b[0m \u001b[0mAAnn_nan_rows_HighNIBRS\u001b[0m \u001b[1;33m=\u001b[0m \u001b[0mAAnn\u001b[0m\u001b[1;33m[\u001b[0m\u001b[0mAAnn\u001b[0m\u001b[1;33m[\u001b[0m\u001b[1;34m'HighestNIBRS/UCROffenseDescription'\u001b[0m\u001b[1;33m]\u001b[0m\u001b[1;33m.\u001b[0m\u001b[0misnull\u001b[0m\u001b[1;33m(\u001b[0m\u001b[1;33m)\u001b[0m\u001b[1;33m]\u001b[0m\u001b[1;33m\u001b[0m\u001b[0m\n",
      "\u001b[1;32mC:\\Users\\mikaa\\Anaconda3\\lib\\site-packages\\pandas\\core\\frame.py\u001b[0m in \u001b[0;36m__getitem__\u001b[1;34m(self, key)\u001b[0m\n\u001b[0;32m   2060\u001b[0m             \u001b[1;32mreturn\u001b[0m \u001b[0mself\u001b[0m\u001b[1;33m.\u001b[0m\u001b[0m_getitem_multilevel\u001b[0m\u001b[1;33m(\u001b[0m\u001b[0mkey\u001b[0m\u001b[1;33m)\u001b[0m\u001b[1;33m\u001b[0m\u001b[0m\n\u001b[0;32m   2061\u001b[0m         \u001b[1;32melse\u001b[0m\u001b[1;33m:\u001b[0m\u001b[1;33m\u001b[0m\u001b[0m\n\u001b[1;32m-> 2062\u001b[1;33m             \u001b[1;32mreturn\u001b[0m \u001b[0mself\u001b[0m\u001b[1;33m.\u001b[0m\u001b[0m_getitem_column\u001b[0m\u001b[1;33m(\u001b[0m\u001b[0mkey\u001b[0m\u001b[1;33m)\u001b[0m\u001b[1;33m\u001b[0m\u001b[0m\n\u001b[0m\u001b[0;32m   2063\u001b[0m \u001b[1;33m\u001b[0m\u001b[0m\n\u001b[0;32m   2064\u001b[0m     \u001b[1;32mdef\u001b[0m \u001b[0m_getitem_column\u001b[0m\u001b[1;33m(\u001b[0m\u001b[0mself\u001b[0m\u001b[1;33m,\u001b[0m \u001b[0mkey\u001b[0m\u001b[1;33m)\u001b[0m\u001b[1;33m:\u001b[0m\u001b[1;33m\u001b[0m\u001b[0m\n",
      "\u001b[1;32mC:\\Users\\mikaa\\Anaconda3\\lib\\site-packages\\pandas\\core\\frame.py\u001b[0m in \u001b[0;36m_getitem_column\u001b[1;34m(self, key)\u001b[0m\n\u001b[0;32m   2067\u001b[0m         \u001b[1;31m# get column\u001b[0m\u001b[1;33m\u001b[0m\u001b[1;33m\u001b[0m\u001b[0m\n\u001b[0;32m   2068\u001b[0m         \u001b[1;32mif\u001b[0m \u001b[0mself\u001b[0m\u001b[1;33m.\u001b[0m\u001b[0mcolumns\u001b[0m\u001b[1;33m.\u001b[0m\u001b[0mis_unique\u001b[0m\u001b[1;33m:\u001b[0m\u001b[1;33m\u001b[0m\u001b[0m\n\u001b[1;32m-> 2069\u001b[1;33m             \u001b[1;32mreturn\u001b[0m \u001b[0mself\u001b[0m\u001b[1;33m.\u001b[0m\u001b[0m_get_item_cache\u001b[0m\u001b[1;33m(\u001b[0m\u001b[0mkey\u001b[0m\u001b[1;33m)\u001b[0m\u001b[1;33m\u001b[0m\u001b[0m\n\u001b[0m\u001b[0;32m   2070\u001b[0m \u001b[1;33m\u001b[0m\u001b[0m\n\u001b[0;32m   2071\u001b[0m         \u001b[1;31m# duplicate columns & possible reduce dimensionality\u001b[0m\u001b[1;33m\u001b[0m\u001b[1;33m\u001b[0m\u001b[0m\n",
      "\u001b[1;32mC:\\Users\\mikaa\\Anaconda3\\lib\\site-packages\\pandas\\core\\generic.py\u001b[0m in \u001b[0;36m_get_item_cache\u001b[1;34m(self, item)\u001b[0m\n\u001b[0;32m   1532\u001b[0m         \u001b[0mres\u001b[0m \u001b[1;33m=\u001b[0m \u001b[0mcache\u001b[0m\u001b[1;33m.\u001b[0m\u001b[0mget\u001b[0m\u001b[1;33m(\u001b[0m\u001b[0mitem\u001b[0m\u001b[1;33m)\u001b[0m\u001b[1;33m\u001b[0m\u001b[0m\n\u001b[0;32m   1533\u001b[0m         \u001b[1;32mif\u001b[0m \u001b[0mres\u001b[0m \u001b[1;32mis\u001b[0m \u001b[1;32mNone\u001b[0m\u001b[1;33m:\u001b[0m\u001b[1;33m\u001b[0m\u001b[0m\n\u001b[1;32m-> 1534\u001b[1;33m             \u001b[0mvalues\u001b[0m \u001b[1;33m=\u001b[0m \u001b[0mself\u001b[0m\u001b[1;33m.\u001b[0m\u001b[0m_data\u001b[0m\u001b[1;33m.\u001b[0m\u001b[0mget\u001b[0m\u001b[1;33m(\u001b[0m\u001b[0mitem\u001b[0m\u001b[1;33m)\u001b[0m\u001b[1;33m\u001b[0m\u001b[0m\n\u001b[0m\u001b[0;32m   1535\u001b[0m             \u001b[0mres\u001b[0m \u001b[1;33m=\u001b[0m \u001b[0mself\u001b[0m\u001b[1;33m.\u001b[0m\u001b[0m_box_item_values\u001b[0m\u001b[1;33m(\u001b[0m\u001b[0mitem\u001b[0m\u001b[1;33m,\u001b[0m \u001b[0mvalues\u001b[0m\u001b[1;33m)\u001b[0m\u001b[1;33m\u001b[0m\u001b[0m\n\u001b[0;32m   1536\u001b[0m             \u001b[0mcache\u001b[0m\u001b[1;33m[\u001b[0m\u001b[0mitem\u001b[0m\u001b[1;33m]\u001b[0m \u001b[1;33m=\u001b[0m \u001b[0mres\u001b[0m\u001b[1;33m\u001b[0m\u001b[0m\n",
      "\u001b[1;32mC:\\Users\\mikaa\\Anaconda3\\lib\\site-packages\\pandas\\core\\internals.py\u001b[0m in \u001b[0;36mget\u001b[1;34m(self, item, fastpath)\u001b[0m\n\u001b[0;32m   3588\u001b[0m \u001b[1;33m\u001b[0m\u001b[0m\n\u001b[0;32m   3589\u001b[0m             \u001b[1;32mif\u001b[0m \u001b[1;32mnot\u001b[0m \u001b[0misnull\u001b[0m\u001b[1;33m(\u001b[0m\u001b[0mitem\u001b[0m\u001b[1;33m)\u001b[0m\u001b[1;33m:\u001b[0m\u001b[1;33m\u001b[0m\u001b[0m\n\u001b[1;32m-> 3590\u001b[1;33m                 \u001b[0mloc\u001b[0m \u001b[1;33m=\u001b[0m \u001b[0mself\u001b[0m\u001b[1;33m.\u001b[0m\u001b[0mitems\u001b[0m\u001b[1;33m.\u001b[0m\u001b[0mget_loc\u001b[0m\u001b[1;33m(\u001b[0m\u001b[0mitem\u001b[0m\u001b[1;33m)\u001b[0m\u001b[1;33m\u001b[0m\u001b[0m\n\u001b[0m\u001b[0;32m   3591\u001b[0m             \u001b[1;32melse\u001b[0m\u001b[1;33m:\u001b[0m\u001b[1;33m\u001b[0m\u001b[0m\n\u001b[0;32m   3592\u001b[0m                 \u001b[0mindexer\u001b[0m \u001b[1;33m=\u001b[0m \u001b[0mnp\u001b[0m\u001b[1;33m.\u001b[0m\u001b[0marange\u001b[0m\u001b[1;33m(\u001b[0m\u001b[0mlen\u001b[0m\u001b[1;33m(\u001b[0m\u001b[0mself\u001b[0m\u001b[1;33m.\u001b[0m\u001b[0mitems\u001b[0m\u001b[1;33m)\u001b[0m\u001b[1;33m)\u001b[0m\u001b[1;33m[\u001b[0m\u001b[0misnull\u001b[0m\u001b[1;33m(\u001b[0m\u001b[0mself\u001b[0m\u001b[1;33m.\u001b[0m\u001b[0mitems\u001b[0m\u001b[1;33m)\u001b[0m\u001b[1;33m]\u001b[0m\u001b[1;33m\u001b[0m\u001b[0m\n",
      "\u001b[1;32mC:\\Users\\mikaa\\Anaconda3\\lib\\site-packages\\pandas\\core\\indexes\\base.py\u001b[0m in \u001b[0;36mget_loc\u001b[1;34m(self, key, method, tolerance)\u001b[0m\n\u001b[0;32m   2393\u001b[0m                 \u001b[1;32mreturn\u001b[0m \u001b[0mself\u001b[0m\u001b[1;33m.\u001b[0m\u001b[0m_engine\u001b[0m\u001b[1;33m.\u001b[0m\u001b[0mget_loc\u001b[0m\u001b[1;33m(\u001b[0m\u001b[0mkey\u001b[0m\u001b[1;33m)\u001b[0m\u001b[1;33m\u001b[0m\u001b[0m\n\u001b[0;32m   2394\u001b[0m             \u001b[1;32mexcept\u001b[0m \u001b[0mKeyError\u001b[0m\u001b[1;33m:\u001b[0m\u001b[1;33m\u001b[0m\u001b[0m\n\u001b[1;32m-> 2395\u001b[1;33m                 \u001b[1;32mreturn\u001b[0m \u001b[0mself\u001b[0m\u001b[1;33m.\u001b[0m\u001b[0m_engine\u001b[0m\u001b[1;33m.\u001b[0m\u001b[0mget_loc\u001b[0m\u001b[1;33m(\u001b[0m\u001b[0mself\u001b[0m\u001b[1;33m.\u001b[0m\u001b[0m_maybe_cast_indexer\u001b[0m\u001b[1;33m(\u001b[0m\u001b[0mkey\u001b[0m\u001b[1;33m)\u001b[0m\u001b[1;33m)\u001b[0m\u001b[1;33m\u001b[0m\u001b[0m\n\u001b[0m\u001b[0;32m   2396\u001b[0m \u001b[1;33m\u001b[0m\u001b[0m\n\u001b[0;32m   2397\u001b[0m         \u001b[0mindexer\u001b[0m \u001b[1;33m=\u001b[0m \u001b[0mself\u001b[0m\u001b[1;33m.\u001b[0m\u001b[0mget_indexer\u001b[0m\u001b[1;33m(\u001b[0m\u001b[1;33m[\u001b[0m\u001b[0mkey\u001b[0m\u001b[1;33m]\u001b[0m\u001b[1;33m,\u001b[0m \u001b[0mmethod\u001b[0m\u001b[1;33m=\u001b[0m\u001b[0mmethod\u001b[0m\u001b[1;33m,\u001b[0m \u001b[0mtolerance\u001b[0m\u001b[1;33m=\u001b[0m\u001b[0mtolerance\u001b[0m\u001b[1;33m)\u001b[0m\u001b[1;33m\u001b[0m\u001b[0m\n",
      "\u001b[1;32mpandas\\_libs\\index.pyx\u001b[0m in \u001b[0;36mpandas._libs.index.IndexEngine.get_loc (pandas\\_libs\\index.c:5239)\u001b[1;34m()\u001b[0m\n",
      "\u001b[1;32mpandas\\_libs\\index.pyx\u001b[0m in \u001b[0;36mpandas._libs.index.IndexEngine.get_loc (pandas\\_libs\\index.c:5085)\u001b[1;34m()\u001b[0m\n",
      "\u001b[1;32mpandas\\_libs\\hashtable_class_helper.pxi\u001b[0m in \u001b[0;36mpandas._libs.hashtable.PyObjectHashTable.get_item (pandas\\_libs\\hashtable.c:20405)\u001b[1;34m()\u001b[0m\n",
      "\u001b[1;32mpandas\\_libs\\hashtable_class_helper.pxi\u001b[0m in \u001b[0;36mpandas._libs.hashtable.PyObjectHashTable.get_item (pandas\\_libs\\hashtable.c:20359)\u001b[1;34m()\u001b[0m\n",
      "\u001b[1;31mKeyError\u001b[0m: 'GOPrimaryKey'"
     ]
    }
   ],
   "source": [
    "#AAnn\n",
    "AAnn_vars = ['GOPrimaryKey', 'GOHighestOffenseDesc', 'GO', 'GOReportDate', \n",
    "             'GOLocation','GOLocationZip', 'GOCensusTract', 'GOXCoordinate', 'GOYCoordinate']\n",
    "\n",
    "#AUF2015\n",
    "AUF2015_vars = ['PrimaryKey', 'DateOccurred', 'TimeOccurred', 'Location', 'NatureOfContact', \n",
    "                'SubjectEffects', 'OfficerOrganizationDesc', 'OfficerCommissionDate', 'OfficerYrsofService', \n",
    "                'X-Coordinate', 'Y-Coordinate'] \n",
    "\n",
    "#Printing \n",
    "\n",
    "#To find out if the columns we care about have NaNs in them:\n",
    "\n",
    "#AAnn\n",
    "AAnn_nan_rows_GOPrimaryKey = AAnn[AAnn['GOPrimaryKey'].isnull()]\n",
    "AAnn_nan_rows_GOHighestOffenseDesc = AAnn[AAnn['GOHighestOffenseDesc'].isnull()]\n",
    "AAnn_nan_rows_HighNIBRS = AAnn[AAnn['HighestNIBRS/UCROffenseDescription'].isnull()]\n",
    "AAnn_nan_rows_GOReportDate = AAnn[AAnn['GOReportDate'].isnull()]\n",
    "AAnn_nan_rows_GOLocation = AAnn[AAnn['GOLocation'].isnull()]\n",
    "AAnn_nan_rows_GOLocationZip = AAnn[AAnn['GOLocationZip'].isnull()]\n",
    "AAnn_nan_rows_GOCensusTract = AAnn[AAnn['GOCensusTract'].isnull()]\n",
    "AAnn_nan_rows_GOXCoordinate = AAnn[AAnn['GOXCoordinate'].isnull()]\n",
    "AAnn_nan_rows_GOYCoordinate = AAnn[AAnn['GOYCoordinate'].isnull()]\n",
    "\n",
    "#AUF2015\n",
    "AUF2015_nan_rows_PrimaryKey = AUF2015[AUF2015['PrimaryKey'].isnull()]\n",
    "AUF2015_nan_rows_DateOccurred = AUF2015[AUF2015['DateOccurred'].isnull()]\n",
    "AUF2015_nan_rows_TimeOccurred = AUF2015[AUF2015['TimeOccurred'].isnull()]\n",
    "AUF2015_nan_rows_Location = AUF2015[AUF2015['Location'].isnull()]\n",
    "AUF2015_nan_rows_NatureofContact = AUF2015[AUF2015['NatureofContact'].isnull()]\n",
    "AUF2015_nan_rows_SubjectEffects = AUF2015[AUF2015['SubjectEffects'].isnull()]\n",
    "AUF2015_nan_rows_OfficerOrganizationDesc = AUF2015[AUF2015['OfficerOrganizationDesc'].isnull()]\n",
    "AUF2015_nan_rows_OfficerCommissionDate = AUF2015[AUF2015['OfficerCommissionDate'].isnull()]\n",
    "AUF2015_nan_rows_OfficerYrsofService = AUF2015[AUF2015['OfficerYrsofService'].isnull()]\n",
    "AUF2015_nan_rows_XCoordinate = AUF2015[AUF2015['X-Coordinate'].isnull()]\n",
    "AUF2015_nan_rows_YCoordinate = AUF2015[AUF2015['Y-Coordinate'].isnull()]"
   ]
  },
  {
   "cell_type": "code",
   "execution_count": null,
   "metadata": {
    "collapsed": true
   },
   "outputs": [],
   "source": [
    "stack_nan = stack[stack.isnull().T.any().T]"
   ]
  },
  {
   "cell_type": "code",
   "execution_count": 200,
   "metadata": {},
   "outputs": [
    {
     "data": {
      "text/plain": [
       "Index(['Key', 'CouncilDistrict', 'UF', 'XCoord', 'YCoord', 'RIN',\n",
       "       'DateOccurred', 'TimeOccurred', 'ClearanceDate', 'GOReportDate',\n",
       "       'R2RLevel', 'NIBRS', 'AreaCommand', 'Location', 'GOCensusTract',\n",
       "       'GODistrict', 'GOLocation', 'GOLocationZip', 'OfficerEffects',\n",
       "       'OfficerCommissionDate', 'OfficerYrsServ', 'OfficerOrganizationDesc',\n",
       "       'ReasonDesc', 'SubjectConductDesc', 'SubjectEffects',\n",
       "       'SubjectEthnicity', 'SubjectRace', 'SubjectResistance', 'SubjectSex',\n",
       "       'NatureOfContact', 'GOHighestOffenseDesc', 'NumberShots', 'WeaponUsed1',\n",
       "       'WeaponUsed2', 'WeaponUsed3', 'WeaponUsed4', 'WeaponUsed5',\n",
       "       'ClearanceStatus', 'MasterSubjectID'],\n",
       "      dtype='object')"
      ]
     },
     "execution_count": 200,
     "metadata": {},
     "output_type": "execute_result"
    }
   ],
   "source": [
    "stack.keys()"
   ]
  },
  {
   "cell_type": "code",
   "execution_count": 219,
   "metadata": {},
   "outputs": [
    {
     "ename": "ValueError",
     "evalue": "The truth value of a Series is ambiguous. Use a.empty, a.bool(), a.item(), a.any() or a.all().",
     "output_type": "error",
     "traceback": [
      "\u001b[1;31m---------------------------------------------------------------------------\u001b[0m",
      "\u001b[1;31mValueError\u001b[0m                                Traceback (most recent call last)",
      "\u001b[1;32m<ipython-input-219-01abfbb6e27e>\u001b[0m in \u001b[0;36m<module>\u001b[1;34m()\u001b[0m\n\u001b[0;32m      8\u001b[0m \u001b[1;33m\u001b[0m\u001b[0m\n\u001b[0;32m      9\u001b[0m \u001b[1;32mfor\u001b[0m \u001b[0mrow\u001b[0m \u001b[1;32min\u001b[0m \u001b[0mstack\u001b[0m\u001b[1;33m:\u001b[0m\u001b[1;33m\u001b[0m\u001b[0m\n\u001b[1;32m---> 10\u001b[1;33m     \u001b[1;32mif\u001b[0m \u001b[0mstack\u001b[0m\u001b[1;33m.\u001b[0m\u001b[0mUF\u001b[0m \u001b[1;33m==\u001b[0m \u001b[1;32mFalse\u001b[0m\u001b[1;33m:\u001b[0m\u001b[1;33m\u001b[0m\u001b[0m\n\u001b[0m\u001b[0;32m     11\u001b[0m         \u001b[0mprint\u001b[0m\u001b[1;33m(\u001b[0m\u001b[0mstack\u001b[0m\u001b[1;33m[\u001b[0m\u001b[1;33m[\u001b[0m\u001b[1;34m'Key'\u001b[0m\u001b[1;33m,\u001b[0m \u001b[1;34m'UF'\u001b[0m\u001b[1;33m,\u001b[0m \u001b[1;34m'GOHighestOffenseDesc'\u001b[0m\u001b[1;33m,\u001b[0m \u001b[1;34m'NIBRS'\u001b[0m\u001b[1;33m,\u001b[0m \u001b[1;34m'GOReportDate'\u001b[0m\u001b[1;33m,\u001b[0m \u001b[1;34m'GOLocation'\u001b[0m\u001b[1;33m,\u001b[0m \u001b[1;34m'ClearanceStatus'\u001b[0m\u001b[1;33m,\u001b[0m \u001b[1;34m'ClearanceDate'\u001b[0m\u001b[1;33m,\u001b[0m \u001b[1;34m'GODistrict'\u001b[0m\u001b[1;33m,\u001b[0m \u001b[1;34m'GOLocationZip'\u001b[0m\u001b[1;33m,\u001b[0m \u001b[1;34m'GOCensusTract'\u001b[0m\u001b[1;33m]\u001b[0m\u001b[1;33m]\u001b[0m\u001b[1;33m)\u001b[0m\u001b[1;33m\u001b[0m\u001b[0m\n",
      "\u001b[1;32mC:\\Users\\mikaa\\Anaconda3\\lib\\site-packages\\pandas\\core\\generic.py\u001b[0m in \u001b[0;36m__nonzero__\u001b[1;34m(self)\u001b[0m\n\u001b[0;32m    951\u001b[0m         raise ValueError(\"The truth value of a {0} is ambiguous. \"\n\u001b[0;32m    952\u001b[0m                          \u001b[1;34m\"Use a.empty, a.bool(), a.item(), a.any() or a.all().\"\u001b[0m\u001b[1;33m\u001b[0m\u001b[0m\n\u001b[1;32m--> 953\u001b[1;33m                          .format(self.__class__.__name__))\n\u001b[0m\u001b[0;32m    954\u001b[0m \u001b[1;33m\u001b[0m\u001b[0m\n\u001b[0;32m    955\u001b[0m     \u001b[0m__bool__\u001b[0m \u001b[1;33m=\u001b[0m \u001b[0m__nonzero__\u001b[0m\u001b[1;33m\u001b[0m\u001b[0m\n",
      "\u001b[1;31mValueError\u001b[0m: The truth value of a Series is ambiguous. Use a.empty, a.bool(), a.item(), a.any() or a.all()."
     ]
    }
   ],
   "source": [
    "#stack_nan = stack[['Key', 'UF', 'GOHighestOffenseDesc', 'NIBRS', 'GOReportDate', 'GOLocation', 'ClearanceStatus', 'ClearanceDate', 'GODistrict', 'GOLocationZip', 'GOCensusTract']]\n",
    "\n",
    "#nan= stack_nan[stack_nan.isnull().T.any().T]\n",
    "#print(nan.iloc[3000][0])\n",
    "#nan\n",
    "\n",
    "#stack_nan\n",
    "\n",
    "for row in stack:\n",
    "    if stack.UF == False:\n",
    "        print(stack[['Key', 'UF', 'GOHighestOffenseDesc', 'NIBRS', 'GOReportDate', 'GOLocation', 'ClearanceStatus', 'ClearanceDate', 'GODistrict', 'GOLocationZip', 'GOCensusTract']])\n"
   ]
  },
  {
   "cell_type": "code",
   "execution_count": 226,
   "metadata": {},
   "outputs": [
    {
     "name": "stdout",
     "output_type": "stream",
     "text": [
      "Index(['GOPrimaryKey', 'Council_District', 'GOHighestOffenseDesc', 'NIBRS',\n",
      "       'GOReportDate', 'GOLocation', 'ClearanceStatus', 'ClearanceDate',\n",
      "       'GODistrict', 'GOLocationZip', 'GOCensusTract', 'GOXCoordinate',\n",
      "       'GOYCoordinate'],\n",
      "      dtype='object')\n"
     ]
    },
    {
     "data": {
      "text/plain": [
       "Index(['RIN', 'Key', 'DateOccurred', 'TimeOccurred', 'Location', 'AreaCommand',\n",
       "       'NatureofContact', 'ReasonDesc', 'R2RLevel', 'MasterSubjectID',\n",
       "       'SubjectSex', 'SubjectRace', 'SubjectEthnicity', 'SubjectConductDesc',\n",
       "       'SubjectResistance', 'WeaponUsed1', 'WeaponUsed2', 'WeaponUsed3',\n",
       "       'WeaponUsed4', 'WeaponUsed5', 'NumberShots', 'SubjectEffects',\n",
       "       'OfficerEffects', 'OfficerOrganizationDesc', 'OfficerCommissionDate',\n",
       "       'OfficerYrsServ', 'X-Coordinate', 'Y-Coordinate', 'CouncilDistrict'],\n",
       "      dtype='object')"
      ]
     },
     "execution_count": 226,
     "metadata": {},
     "output_type": "execute_result"
    }
   ],
   "source": [
    "print(AAnn.keys())\n",
    "AUF2015.keys()"
   ]
  },
  {
   "cell_type": "code",
   "execution_count": 224,
   "metadata": {},
   "outputs": [
    {
     "data": {
      "text/plain": [
       "Key                           0\n",
       "CouncilDistrict               0\n",
       "UF                            0\n",
       "XCoord                        0\n",
       "YCoord                        0\n",
       "RIN                           0\n",
       "DateOccurred                  0\n",
       "TimeOccurred                  0\n",
       "ClearanceDate                44\n",
       "GOReportDate                  0\n",
       "R2RLevel                      1\n",
       "NIBRS                         0\n",
       "AreaCommand                   0\n",
       "Location                      0\n",
       "GOCensusTract                 1\n",
       "GODistrict                    0\n",
       "GOLocation                   17\n",
       "GOLocationZip                 1\n",
       "OfficerEffects              112\n",
       "OfficerCommissionDate         2\n",
       "OfficerYrsServ                0\n",
       "OfficerOrganizationDesc       2\n",
       "ReasonDesc                    1\n",
       "SubjectConductDesc          360\n",
       "SubjectEffects                9\n",
       "SubjectEthnicity             88\n",
       "SubjectRace                  76\n",
       "SubjectResistance             1\n",
       "SubjectSex                   76\n",
       "NatureOfContact            1673\n",
       "GOHighestOffenseDesc          0\n",
       "NumberShots                1266\n",
       "WeaponUsed1                  17\n",
       "WeaponUsed2                1604\n",
       "WeaponUsed3                1666\n",
       "WeaponUsed4                1673\n",
       "WeaponUsed5                1673\n",
       "ClearanceStatus              44\n",
       "MasterSubjectID              13\n",
       "dtype: int64"
      ]
     },
     "execution_count": 224,
     "metadata": {},
     "output_type": "execute_result"
    }
   ],
   "source": [
    "null = stack.loc[(stack['UF'] == False)] \n",
    "          #& df['other_column'].isin(some_values)]\n",
    "null.isnull().sum()"
   ]
  },
  {
   "cell_type": "code",
   "execution_count": null,
   "metadata": {},
   "outputs": [],
   "source": []
  },
  {
   "cell_type": "code",
   "execution_count": null,
   "metadata": {},
   "outputs": [],
   "source": []
  },
  {
   "cell_type": "code",
   "execution_count": 3,
   "metadata": {},
   "outputs": [
    {
     "data": {
      "text/plain": [
       "GO Primary Key                              0\n",
       "Council District                          172\n",
       "GO Highest Offense Desc                     0\n",
       "Highest NIBRS/UCR Offense Description       0\n",
       "GO Report Date                              0\n",
       "GO Location                               481\n",
       "Clearance Status                         1924\n",
       "Clearance Date                           1924\n",
       "GO District                                 0\n",
       "GO Location Zip                           159\n",
       "GO Census Tract                           159\n",
       "GO X Coordinate                           592\n",
       "GO Y Coordinate                           592\n",
       "dtype: int64"
      ]
     },
     "execution_count": 3,
     "metadata": {},
     "output_type": "execute_result"
    }
   ],
   "source": [
    "AAnn.isnull().sum()"
   ]
  },
  {
   "cell_type": "code",
   "execution_count": null,
   "metadata": {},
   "outputs": [],
   "source": []
  },
  {
   "cell_type": "code",
   "execution_count": null,
   "metadata": {},
   "outputs": [],
   "source": []
  },
  {
   "cell_type": "code",
   "execution_count": null,
   "metadata": {},
   "outputs": [],
   "source": []
  },
  {
   "cell_type": "code",
   "execution_count": null,
   "metadata": {},
   "outputs": [],
   "source": []
  },
  {
   "cell_type": "code",
   "execution_count": null,
   "metadata": {
    "collapsed": true
   },
   "outputs": [],
   "source": []
  },
  {
   "cell_type": "code",
   "execution_count": null,
   "metadata": {},
   "outputs": [],
   "source": []
  },
  {
   "cell_type": "code",
   "execution_count": null,
   "metadata": {},
   "outputs": [],
   "source": []
  },
  {
   "cell_type": "code",
   "execution_count": null,
   "metadata": {
    "collapsed": true
   },
   "outputs": [],
   "source": []
  }
 ],
 "metadata": {
  "kernelspec": {
   "display_name": "Python 3",
   "language": "python",
   "name": "python3"
  },
  "language_info": {
   "codemirror_mode": {
    "name": "ipython",
    "version": 3
   },
   "file_extension": ".py",
   "mimetype": "text/x-python",
   "name": "python",
   "nbconvert_exporter": "python",
   "pygments_lexer": "ipython3",
   "version": "3.6.1"
  }
 },
 "nbformat": 4,
 "nbformat_minor": 2
}
