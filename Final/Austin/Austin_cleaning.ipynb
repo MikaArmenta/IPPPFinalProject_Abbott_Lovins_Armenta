{
 "cells": [
  {
   "cell_type": "code",
   "execution_count": 1,
   "metadata": {
    "collapsed": true
   },
   "outputs": [],
   "source": [
    "import pandas as pd\n",
    "\n",
    "AustinAnnual = pd.read_csv('Austin_Annual_Crime_Dataset_2015.csv')\n",
    "Austin_UF2015= pd.read_csv(\"Austin_UF_R2R_2015.csv\")\n",
    "\n",
    "#When writing actual script, need to 'within line in open(...) and call directly from internet."
   ]
  },
  {
   "cell_type": "code",
   "execution_count": 3,
   "metadata": {},
   "outputs": [
    {
     "data": {
      "text/plain": [
       "Index(['GO Primary Key', 'Council District', 'GO Highest Offense Desc',\n",
       "       'Highest NIBRS/UCR Offense Description', 'GO Report Date',\n",
       "       'GO Location', 'Clearance Status', 'Clearance Date', 'GO District',\n",
       "       'GO Location Zip', 'GO Census Tract', 'GO X Coordinate',\n",
       "       'GO Y Coordinate'],\n",
       "      dtype='object')"
      ]
     },
     "execution_count": 3,
     "metadata": {},
     "output_type": "execute_result"
    }
   ],
   "source": [
    "AustinAnnual.keys()"
   ]
  },
  {
   "cell_type": "code",
   "execution_count": 4,
   "metadata": {},
   "outputs": [
    {
     "data": {
      "text/plain": [
       "0    201510782\n",
       "1    201511231\n",
       "2    201511736\n",
       "3    201511433\n",
       "4    201511936\n",
       "5    201511398\n",
       "6    201511363\n",
       "7    201510756\n",
       "8    201510608\n",
       "9    201511584\n",
       "Name: GO Primary Key, dtype: int64"
      ]
     },
     "execution_count": 4,
     "metadata": {},
     "output_type": "execute_result"
    }
   ],
   "source": [
    "AustinAnnual['GO Primary Key'].head(10)"
   ]
  },
  {
   "cell_type": "code",
   "execution_count": 5,
   "metadata": {},
   "outputs": [
    {
     "data": {
      "text/plain": [
       "Index([' RIN', ' Primary Key', ' Date Occurred', ' Time Occurred', ' Location',\n",
       "       ' Area Command', ' Nature of Contact', ' Reason Desc', ' R2R Level',\n",
       "       'Master Subject ID', ' Subject Sex', ' Subject Race',\n",
       "       ' Subject Ethnicity', ' Subject Conduct Desc', ' Subject Resistance',\n",
       "       ' Weapon Used 1', ' Weapon Used 2', 'Weapon Used 3', ' Weapon Used 4',\n",
       "       ' Weapon Used 5', ' Number Shots', ' Subject Effects',\n",
       "       ' Effect on Officer', ' Officer Organization Desc',\n",
       "       ' Officer Commission Date', 'Officer Yrs of Service', ' X-Coordinate',\n",
       "       ' Y-Coordinate', 'CouncilDistrict'],\n",
       "      dtype='object')"
      ]
     },
     "execution_count": 5,
     "metadata": {},
     "output_type": "execute_result"
    }
   ],
   "source": [
    "Austin_UF2015.keys()"
   ]
  },
  {
   "cell_type": "code",
   "execution_count": 6,
   "metadata": {},
   "outputs": [
    {
     "data": {
      "text/plain": [
       "0    201510652\n",
       "1    201510652\n",
       "2    201510652\n",
       "3    201520457\n",
       "4    201520457\n",
       "5    201621470\n",
       "6    201530043\n",
       "7    201530572\n",
       "8    201530126\n",
       "9    201530126\n",
       "Name:  Primary Key, dtype: int64"
      ]
     },
     "execution_count": 6,
     "metadata": {},
     "output_type": "execute_result"
    }
   ],
   "source": [
    "Austin_UF2015[' Primary Key'].head(10)"
   ]
  },
  {
   "cell_type": "code",
   "execution_count": 29,
   "metadata": {},
   "outputs": [
    {
     "name": "stdout",
     "output_type": "stream",
     "text": [
      "{20152811520, 20152650246, 20152220678, 20152860682, 20152071178, 20151991821, 20151411727, 20151260176, 2015490066, 20153001492, 20151370776, 20152261144, 2015190045, 20151790622, 20151241249, 20152630305, 20153441827, 2015730212, 20152350249, 2015390765, 2015351350, 20153251387, 20153501247, 2015360578, 2015641667, 20152630338, 20152090184, 20151832142, 2015110225, 20151361107, 20151161429, 2015872086, 20151860826, 20152240220, 20151320161, 20152830053, 20151940198, 20152390249, 20151221865, 2015520363, 20152391788, 20153150061, 20151500403, 20151420020, 2015510647, 2015100025, 2015431291, 2015141501, 20153221764, 2015960708, 20152280714, 201580171, 20151390349, 20153121425, 20151590554, 20153290912, 20152910497, 20153620645, 20153371304, 20152930473, 20152940202, 20151830188, 20151370416, 20151731897, 20152471738, 20152320190, 20153450174, 20151790272, 20151371969, 20152450248, 20153621197, 20151290063, 20151492303, 20151000276, 20151051991, 20151721693, 20151141090, 20152471269, 20152430823, 20151021803, 2015692012, 20152690414, 20151800046, 20151161071, 20153581297, 20152050419, 20152341747, 2015770871, 20153010941, 2015570175, 20151280895, 2015410948, 20152280840, 2015650058, 20151580427, 20152402188, 20151951118, 20151712017, 20153641746, 20151791380, 20152501016, 20151601945, 2015381788, 20152031005, 20153391900, 20152181025, 20152381729, 20153251621, 20152270629, 20151690029, 20151600951, 2015391544, 2015291705, 20153080121, 2015790395, 20152851773, 2015481668, 20152540999, 20152131913, 2015911242, 20152640334, 20153510228, 20151531349, 2015760728, 2015170395, 2015421788, 20151111004, 20151161696, 20151150434, 2015341411, 20152631140, 20152080239, 20153471344, 20152372082, 20153081202, 20151801719, 20152510331, 20151551867, 20153460610, 20153480067, 20153260930, 20152170373, 20153231750, 20153380743, 2015551369, 20153410447, 20153041808, 2015721359, 20153051541, 2015410072, 20153231258, 2015360922, 20151731617, 20153231780, 20151301029, 2015961510, 2015410596, 20153241512, 20151050153, 20153471403, 20152291247, 20152820656, 20151421365, 20152821686, 20152471478, 2015921592, 20152701370, 2015751611, 20153430974, 20152500672, 2015881664, 20153420737, 20152231370, 2015300554, 2015231439, 2015400915, 20151401945, 20155028443, 20152700381, 2015161823, 2015820767, 20153020389, 20152441829, 20153160170, 20152500717, 20152551407, 2015601136, 2015870452, 2015921653, 2015661049, 20152450043, 20153141758}\n",
      "192 duplicate keys\n"
     ]
    }
   ],
   "source": [
    "DuplicateKey=set(AustinAnnual['GO Primary Key']) & set(Austin_UF2015[' Primary Key'])\n",
    "print(DuplicateKey)\n",
    "print(len(DuplicateKey), 'duplicate keys')"
   ]
  },
  {
   "cell_type": "code",
   "execution_count": 37,
   "metadata": {},
   "outputs": [
    {
     "name": "stdout",
     "output_type": "stream",
     "text": [
      "{20152811520: None, 20152650246: None, 20152220678: None, 20152860682: None, 20152071178: None, 20151991821: None, 20151411727: None, 20151260176: None, 2015490066: None, 20153001492: None, 20151370776: None, 20152261144: None, 2015190045: None, 20151790622: None, 20151241249: None, 20152630305: None, 20153441827: None, 2015730212: None, 20152350249: None, 2015390765: None, 2015351350: None, 20153251387: None, 20153501247: None, 2015360578: None, 2015641667: None, 20152630338: None, 20152090184: None, 20151832142: None, 2015110225: None, 20151361107: None, 20151161429: None, 2015872086: None, 20151860826: None, 20152240220: None, 20151320161: None, 20152830053: None, 20151940198: None, 20152390249: None, 20151221865: None, 2015520363: None, 20152391788: None, 20153150061: None, 20151500403: None, 20151420020: None, 2015510647: None, 2015100025: None, 2015431291: None, 2015141501: None, 20153221764: None, 2015960708: None, 20152280714: None, 201580171: None, 20151390349: None, 20153121425: None, 20151590554: None, 20153290912: None, 20152910497: None, 20153620645: None, 20153371304: None, 20152930473: None, 20152940202: None, 20151830188: None, 20151370416: None, 20151731897: None, 20152471738: None, 20152320190: None, 20153450174: None, 20151790272: None, 20151371969: None, 20152450248: None, 20153621197: None, 20151290063: None, 20151492303: None, 20151000276: None, 20151051991: None, 20151721693: None, 20151141090: None, 20152471269: None, 20152430823: None, 20151021803: None, 2015692012: None, 20152690414: None, 20151800046: None, 20151161071: None, 20153581297: None, 20152050419: None, 20152341747: None, 2015770871: None, 20153010941: None, 2015570175: None, 20151280895: None, 2015410948: None, 20152280840: None, 2015650058: None, 20151580427: None, 20152402188: None, 20151951118: None, 20151712017: None, 20153641746: None, 20151791380: None, 20152501016: None, 20151601945: None, 2015381788: None, 20152031005: None, 20153391900: None, 20152181025: None, 20152381729: None, 20153251621: None, 20152270629: None, 20151690029: None, 20151600951: None, 2015391544: None, 2015291705: None, 20153080121: None, 2015790395: None, 20152851773: None, 2015481668: None, 20152540999: None, 20152131913: None, 2015911242: None, 20152640334: None, 20153510228: None, 20151531349: None, 2015760728: None, 2015170395: None, 2015421788: None, 20151111004: None, 20151161696: None, 20151150434: None, 2015341411: None, 20152631140: None, 20152080239: None, 20153471344: None, 20152372082: None, 20153081202: None, 20151801719: None, 20152510331: None, 20151551867: None, 20153460610: None, 20153480067: None, 20153260930: None, 20152170373: None, 20153231750: None, 20153380743: None, 2015551369: None, 20153410447: None, 20153041808: None, 2015721359: None, 20153051541: None, 2015410072: None, 20153231258: None, 2015360922: None, 20151731617: None, 20153231780: None, 20151301029: None, 2015961510: None, 2015410596: None, 20153241512: None, 20151050153: None, 20153471403: None, 20152291247: None, 20152820656: None, 20151421365: None, 20152821686: None, 20152471478: None, 2015921592: None, 20152701370: None, 2015751611: None, 20153430974: None, 20152500672: None, 2015881664: None, 20153420737: None, 20152231370: None, 2015300554: None, 2015231439: None, 2015400915: None, 20151401945: None, 20155028443: None, 20152700381: None, 2015161823: None, 2015820767: None, 20153020389: None, 20152441829: None, 20153160170: None, 20152500717: None, 20152551407: None, 2015601136: None, 2015870452: None, 2015921653: None, 2015661049: None, 20152450043: None, 20153141758: None}\n"
     ]
    }
   ],
   "source": [
    "Dict = dict.fromkeys(DuplicateKey)\n",
    "print(Dict)"
   ]
  },
  {
   "cell_type": "code",
   "execution_count": 22,
   "metadata": {},
   "outputs": [
    {
     "data": {
      "text/plain": [
       "38573"
      ]
     },
     "execution_count": 22,
     "metadata": {},
     "output_type": "execute_result"
    }
   ],
   "source": [
    "len(set(AustinAnnual['GO Primary Key']))"
   ]
  },
  {
   "cell_type": "code",
   "execution_count": 23,
   "metadata": {},
   "outputs": [
    {
     "data": {
      "text/plain": [
       "1681"
      ]
     },
     "execution_count": 23,
     "metadata": {},
     "output_type": "execute_result"
    }
   ],
   "source": [
    "len(set(Austin_UF2015[' Primary Key']))"
   ]
  },
  {
   "cell_type": "code",
   "execution_count": null,
   "metadata": {},
   "outputs": [],
   "source": []
  },
  {
   "cell_type": "code",
   "execution_count": null,
   "metadata": {},
   "outputs": [],
   "source": []
  },
  {
   "cell_type": "code",
   "execution_count": 16,
   "metadata": {},
   "outputs": [
    {
     "data": {
      "text/plain": [
       "38573"
      ]
     },
     "execution_count": 16,
     "metadata": {},
     "output_type": "execute_result"
    }
   ],
   "source": [
    "len(set(AustinAnnual['GO Primary Key']))"
   ]
  },
  {
   "cell_type": "code",
   "execution_count": 17,
   "metadata": {},
   "outputs": [
    {
     "data": {
      "text/plain": [
       "1681"
      ]
     },
     "execution_count": 17,
     "metadata": {},
     "output_type": "execute_result"
    }
   ],
   "source": [
    "len(set(Austin_UF2015[' Primary Key']))"
   ]
  },
  {
   "cell_type": "code",
   "execution_count": null,
   "metadata": {
    "collapsed": true
   },
   "outputs": [],
   "source": []
  }
 ],
 "metadata": {
  "kernelspec": {
   "display_name": "Python 3",
   "language": "python",
   "name": "python3"
  },
  "language_info": {
   "codemirror_mode": {
    "name": "ipython",
    "version": 3
   },
   "file_extension": ".py",
   "mimetype": "text/x-python",
   "name": "python",
   "nbconvert_exporter": "python",
   "pygments_lexer": "ipython3",
   "version": "3.6.1"
  }
 },
 "nbformat": 4,
 "nbformat_minor": 2
}
