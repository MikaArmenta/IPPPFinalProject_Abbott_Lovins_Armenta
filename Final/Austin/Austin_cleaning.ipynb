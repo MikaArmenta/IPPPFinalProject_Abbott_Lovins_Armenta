{
 "cells": [
  {
   "cell_type": "code",
   "execution_count": 87,
   "metadata": {
    "collapsed": true
   },
   "outputs": [],
   "source": [
    "import pandas as pd\n",
    "import geopandas as gpd\n",
    "import requests, json\n",
    "%matplotlib inline\n",
    "\n",
    "AAnn = pd.read_csv('Austin_Annual_Crime_Dataset_2015.csv')\n",
    "AUF2015= pd.read_csv(\"Austin_UF_R2R_2015.csv\")\n",
    "\n",
    "#When writing actual script, need to 'within line in open(...) and call directly from internet."
   ]
  },
  {
   "cell_type": "code",
   "execution_count": 180,
   "metadata": {},
   "outputs": [],
   "source": [
    "AAnn = pd.read_csv('Austin_Annual_Crime_Dataset_2015.csv')\n",
    "AUF2015= pd.read_csv(\"Austin_UF_R2R_2015.csv\")\n",
    "\n",
    "#Renaming columns\n",
    "AUF2015.rename(columns={' Primary Key': 'Key', ' Effect on Officer': ' OfficerEffects', 'Nature of Contact':'NatureOfContact', 'Officer Yrs of Service': 'OfficerYrsServ'}, inplace=True)\n",
    "AAnn.rename(columns={'HighestNIBRS/UCROffenseDescription':'NIBRS', 'Council District': 'Council_District'}, inplace=True)\n",
    "\n",
    "#Removing spaces in column names\n",
    "AUF2015.columns = AUF2015.columns.str.replace('\\s+','')\n",
    "AAnn.columns = AAnn.columns.str.replace('\\s+','')\n",
    "\n",
    "#Dropping duplicates from AUF2015 set. Only AUF2015 has duplicates.\n",
    "AUF2015 = AUF2015.drop_duplicates(subset='Key', keep='first', inplace = False)\n",
    "\n",
    "#Merging datasets \n",
    "stack = pd.merge(AAnn, AUF2015, left_on='GOPrimaryKey', right_on='Key', how='outer')\n",
    "\n",
    "#Removing hyphens from index names\n",
    "stack.rename(columns={'X-Coordinate':'XCoord', 'Y-Coordinate':'YCoord'}, inplace = True)\n",
    "\n",
    "#Boolean for identifying UF incidents\n",
    "stack['UF'] = stack['AreaCommand'].notnull() | (stack['Key'].notnull() & stack['GOPrimaryKey'].notnull())\n",
    "\n",
    "#Putting info that was present in both datasets into same columns (keys, council districts, and geo coordinates)\n",
    "stack['Key'].fillna(stack['GOPrimaryKey'], inplace=True)\n",
    "stack.drop(['GOPrimaryKey'], axis = 1, inplace = True)\n",
    "\n",
    "stack['CouncilDistrict'].fillna(stack['Council_District'], inplace=True)\n",
    "stack.drop(['Council_District'], axis = 1, inplace = True)\n",
    "\n",
    "stack['XCoord'].fillna(stack['GOXCoordinate'], inplace=True)\n",
    "stack.drop(['GOXCoordinate'], axis = 1, inplace = True)\n",
    "\n",
    "stack['YCoord'].fillna(stack['GOYCoordinate'], inplace=True)\n",
    "stack.drop(['GOYCoordinate'], axis = 1, inplace = True)\n",
    "\n",
    "#Reordering index for ease of navigating dataset\n",
    "stack = stack.reindex_axis(['Key','CouncilDistrict','UF','XCoord','YCoord','RIN',\n",
    "                           'DateOccurred','TimeOccurred','ClearanceDate', 'GOReportDate',\n",
    "                           'R2RLevel','NIBRS','AreaCommand',  'Location', 'GOCensusTract',\n",
    "                           'GODistrict','GOLocation','GOLocationZip','OfficerEffects','OfficerCommissionDate',\n",
    "                           'OfficerYrsServ', 'OfficerOrganizationDesc', 'ReasonDesc','SubjectConductDesc', 'SubjectEffects',\n",
    "                           'SubjectEthnicity', 'SubjectRace', 'SubjectResistance', 'SubjectSex', 'NatureOfContact',\n",
    "                           'GOHighestOffenseDesc', 'NumberShots', 'WeaponUsed1', 'WeaponUsed2', 'WeaponUsed3', 'WeaponUsed4',\n",
    "                           'WeaponUsed5', 'ClearanceStatus','MasterSubjectID'], axis=1)\n",
    "\n",
    "\n",
    "#Sorting by council district\n",
    "stack.sort_values(('CouncilDistrict'), inplace = True)\n",
    "\n",
    "#Resetting index to Key\n",
    "stack.set_index(['Key'], drop = False, inplace = True)\n",
    "\n",
    "#Saving to csv\n",
    "#stack.to_csv('stack.csv')\n"
   ]
  },
  {
   "cell_type": "code",
   "execution_count": null,
   "metadata": {
    "collapsed": true
   },
   "outputs": [],
   "source": []
  },
  {
   "cell_type": "code",
   "execution_count": null,
   "metadata": {
    "collapsed": true
   },
   "outputs": [],
   "source": [
    "#Scratch work/past work/notes from here on out:"
   ]
  },
  {
   "cell_type": "code",
   "execution_count": 179,
   "metadata": {},
   "outputs": [
    {
     "name": "stdout",
     "output_type": "stream",
     "text": [
      "Index(['RIN', 'Key', 'DateOccurred', 'TimeOccurred', 'Location', 'AreaCommand',\n",
      "       'NatureofContact', 'ReasonDesc', 'R2RLevel', 'MasterSubjectID',\n",
      "       'SubjectSex', 'SubjectRace', 'SubjectEthnicity', 'SubjectConductDesc',\n",
      "       'SubjectResistance', 'WeaponUsed1', 'WeaponUsed2', 'WeaponUsed3',\n",
      "       'WeaponUsed4', 'WeaponUsed5', 'NumberShots', 'SubjectEffects',\n",
      "       'OfficerEffects', 'OfficerOrganizationDesc', 'OfficerCommissionDate',\n",
      "       'OfficerYrsServ', 'X-Coordinate', 'Y-Coordinate', 'CouncilDistrict'],\n",
      "      dtype='object')\n",
      "Index(['GOPrimaryKey', 'Council_District', 'GOHighestOffenseDesc',\n",
      "       'HighestNIBRS/UCROffenseDescription', 'GOReportDate', 'GOLocation',\n",
      "       'ClearanceStatus', 'ClearanceDate', 'GODistrict', 'GOLocationZip',\n",
      "       'GOCensusTract', 'GOXCoordinate', 'GOYCoordinate'],\n",
      "      dtype='object')\n",
      "Index(['Key', 'CouncilDistrict', 'UF', 'XCoord', 'YCoord', 'RIN',\n",
      "       'DateOccurred', 'TimeOccurred', 'ClearanceDate', 'GOReportDate',\n",
      "       'R2RLevel', 'NIBRS', 'AreaCommand', 'Location', 'GOCensusTract',\n",
      "       'GODistrict', 'GOLocation', 'GOLocationZip', 'OfficerEffects',\n",
      "       'OfficerCommissionDate', 'OfficerYrsServ', 'OfficerOrganizationDesc',\n",
      "       'ReasonDesc', 'SubjectConductDesc', 'SubjectEffects',\n",
      "       'SubjectEthnicity', 'SubjectRace', 'SubjectResistance', 'SubjectSex',\n",
      "       'NatureOfContact', 'GOHighestOffenseDesc', 'NumberShots', 'WeaponUsed1',\n",
      "       'WeaponUsed2', 'WeaponUsed3', 'WeaponUsed4', 'WeaponUsed5',\n",
      "       'ClearanceStatus', 'MasterSubjectID'],\n",
      "      dtype='object')\n"
     ]
    }
   ],
   "source": [
    "print(AUF2015.keys())\n",
    "print(AAnn.keys())\n",
    "print(stack.keys())"
   ]
  },
  {
   "cell_type": "code",
   "execution_count": 176,
   "metadata": {},
   "outputs": [],
   "source": [
    "#Creating dictionary of common keys (incident identifiers) between datasets\n",
    "AAnn.keys()\n",
    "\n",
    "DupKey=set(AAnn['GOPrimaryKey']) & set(AUF2015['Key'])\n",
    "KeyDict = dict.fromkeys(DupKey)\n",
    "#print(KeyDict)\n",
    "dupkey = KeyDict.keys()\n",
    "dupkeylist = list(dupkey)\n",
    "print(dupkeylist)\n",
    "len(dupkeylist)\n",
    "\n",
    "false=stack['Key'].isin(dupkeylist)\n",
    "false.value_counts()"
   ]
  },
  {
   "cell_type": "code",
   "execution_count": null,
   "metadata": {
    "collapsed": true
   },
   "outputs": [],
   "source": [
    "#Finding NaNs in datasets\n",
    "\n",
    "#How many NaNs are in each column?\n",
    "AAnn.isnull().sum()\n",
    "stack.Key.isnull().sum()\n",
    "\n",
    "#Create table of rows with NaNs\n",
    "AAnn_nan_rows = AAnn[AAnn.isnull().T.any().T]\n",
    "AUF2015_nan_rows = AUF2015[AUF2015.isnull().T.any().T]\n",
    "\n",
    "#Where specifically are the NaNs? Create table of Boolean true/false. True = NaN\n",
    "#False = not a NaN\n",
    "AnnNaNLoc= AAnn.isnull()\n",
    "AUF2015NanLoc= AUF2015.isnull()\n",
    "\n",
    "stack_nan = stack[stack.isnull().T.any().T]"
   ]
  },
  {
   "cell_type": "code",
   "execution_count": null,
   "metadata": {
    "collapsed": true
   },
   "outputs": [],
   "source": [
    "#Finding NaNs continued\n",
    "\n",
    "AAnn.isnull().sum()\n",
    "\n",
    "#AAnn\n",
    "AAnn_vars = ['GOPrimaryKey', 'GOHighestOffenseDesc', 'GO', 'GOReportDate', \n",
    "             'GOLocation','GOLocationZip', 'GOCensusTract', 'GOXCoordinate', 'GOYCoordinate']\n",
    "\n",
    "#AUF2015\n",
    "AUF2015_vars = ['PrimaryKey', 'DateOccurred', 'TimeOccurred', 'Location', 'NatureOfContact', \n",
    "                'SubjectEffects', 'OfficerOrganizationDesc', 'OfficerCommissionDate', 'OfficerYrsofService', \n",
    "                'X-Coordinate', 'Y-Coordinate'] \n",
    "\n",
    "#Printing \n",
    "\n",
    "#To find out if the columns we care about have NaNs in them:\n",
    "\n",
    "#AAnn\n",
    "AAnn_nan_rows_GOPrimaryKey = AAnn[AAnn['GOPrimaryKey'].isnull()]\n",
    "AAnn_nan_rows_GOHighestOffenseDesc = AAnn[AAnn['GOHighestOffenseDesc'].isnull()]\n",
    "AAnn_nan_rows_HighNIBRS = AAnn[AAnn['HighestNIBRS/UCROffenseDescription'].isnull()]\n",
    "AAnn_nan_rows_GOReportDate = AAnn[AAnn['GOReportDate'].isnull()]\n",
    "AAnn_nan_rows_GOLocation = AAnn[AAnn['GOLocation'].isnull()]\n",
    "AAnn_nan_rows_GOLocationZip = AAnn[AAnn['GOLocationZip'].isnull()]\n",
    "AAnn_nan_rows_GOCensusTract = AAnn[AAnn['GOCensusTract'].isnull()]\n",
    "AAnn_nan_rows_GOXCoordinate = AAnn[AAnn['GOXCoordinate'].isnull()]\n",
    "AAnn_nan_rows_GOYCoordinate = AAnn[AAnn['GOYCoordinate'].isnull()]\n",
    "\n",
    "#AUF2015\n",
    "AUF2015_nan_rows_PrimaryKey = AUF2015[AUF2015['PrimaryKey'].isnull()]\n",
    "AUF2015_nan_rows_DateOccurred = AUF2015[AUF2015['DateOccurred'].isnull()]\n",
    "AUF2015_nan_rows_TimeOccurred = AUF2015[AUF2015['TimeOccurred'].isnull()]\n",
    "AUF2015_nan_rows_Location = AUF2015[AUF2015['Location'].isnull()]\n",
    "AUF2015_nan_rows_NatureofContact = AUF2015[AUF2015['NatureofContact'].isnull()]\n",
    "AUF2015_nan_rows_SubjectEffects = AUF2015[AUF2015['SubjectEffects'].isnull()]\n",
    "AUF2015_nan_rows_OfficerOrganizationDesc = AUF2015[AUF2015['OfficerOrganizationDesc'].isnull()]\n",
    "AUF2015_nan_rows_OfficerCommissionDate = AUF2015[AUF2015['OfficerCommissionDate'].isnull()]\n",
    "AUF2015_nan_rows_OfficerYrsofService = AUF2015[AUF2015['OfficerYrsofService'].isnull()]\n",
    "AUF2015_nan_rows_XCoordinate = AUF2015[AUF2015['X-Coordinate'].isnull()]\n",
    "AUF2015_nan_rows_YCoordinate = AUF2015[AUF2015['Y-Coordinate'].isnull()]"
   ]
  },
  {
   "cell_type": "code",
   "execution_count": null,
   "metadata": {
    "collapsed": true
   },
   "outputs": [],
   "source": [
    "#Checking to make sure we deleted the correct columns\n",
    "\n",
    "lenstack= len(stack)\n",
    "print('lenstack', lenstack)\n",
    "\n",
    "lenDupKey= len(DupKey)\n",
    "print('lenDupKey',lenDupKey) #Is DupKey - which all of the other dup variables are based on - only a list of the unique doubles?\n",
    "#As in not accounting for multiple doubles in AUF2015?\n",
    "\n",
    "lenAAnn = len(AAnn)\n",
    "print('lenAAnn',lenAAnn)\n",
    "\n",
    "lenAUF2015 = len(AUF2015)\n",
    "print('lenAUF2015',lenAUF2015)\n",
    "\n",
    "lenAAnnAUF=lenAUF2015 + lenAAnn\n",
    "print('lenAAnnAUF',lenAAnnAUF)\n",
    "\n",
    "lenPreMerge_stack= lenAAnnAUF - lenstack\n",
    "print('lenPreMerge_stack', lenAAnnAUF- lenstack) #(length of the AUF2015 + AAnn) - (length of stack after the merge - presumably\n",
    "#after it's gotten rid of all duplicates except for the one.)\n",
    "\n",
    "lenstackb= len(stackb)\n",
    "print('lenstackb', lenstackb) #Same length as AUF2015 + AAnn. This is good, but may indicate that there are still duplicates\n",
    "#in the stack dataste.\n",
    "\n",
    "stackNonUnique = stack.Key.value_counts() # of non-unique values in Key:\n",
    "#print('stackNonUnique', stackNonUnique)\n",
    "\n",
    "lenstackNU= len(stackNonUnique)\n",
    "print('lenstackNU', lenstackNU) #Why is this less than \n",
    "\n",
    "lenstack_lenstackNU = lenstack - lenstackNU\n",
    "print('lenstack_lenstackNU', lenstack_lenstackNU)\n",
    "\n",
    "stack['Key'].isin(dupkeylist)"
   ]
  },
  {
   "cell_type": "code",
   "execution_count": null,
   "metadata": {},
   "outputs": [],
   "source": [
    "#Old way to combine datasets\n",
    "stackb = pd.concat([AAnn, AUF2015], axis=0)"
   ]
  },
  {
   "cell_type": "code",
   "execution_count": 29,
   "metadata": {},
   "outputs": [],
   "source": [
    "#Just some info for us:\n",
    "\n",
    "print('There are', len(set(AAnn['GOPrimaryKey'])), 'incidents in AAnn 2015 annual crime')\n",
    "print('There are', len(set(AUF2015['PrimaryKey'])), 'incidents in AUF2015 use of force')\n",
    "print('There are', len(KeyDict),'common incidents between AAnn and AUF2015')\n",
    "PercentCommonFromUF= len(KeyDict)/(len(set(AUF2015['PrimaryKey'])))\n",
    "print('This means', PercentCommonFromUF, '% of UF incidents are recorded in AAnn annual crime dataset.')"
   ]
  },
  {
   "cell_type": "code",
   "execution_count": 49,
   "metadata": {},
   "outputs": [],
   "source": []
  },
  {
   "cell_type": "code",
   "execution_count": null,
   "metadata": {},
   "outputs": [],
   "source": [
    "#Geo\n",
    "\n",
    "APDdis=gpd.read_file(\"APD Districts.geojson\")\n",
    "AUF2015.head(5)\n",
    "\n",
    "APDdis.head(2)\n",
    "APDdis.district_name.unique()\n",
    "#SMC= gpd.read_file(\"Single Member Council Districts.geojson\")\n",
    "SMC.plot()\n",
    "#APDdis"
   ]
  },
  {
   "cell_type": "code",
   "execution_count": null,
   "metadata": {},
   "outputs": [],
   "source": [
    "\n",
    "\n",
    "\n"
   ]
  },
  {
   "cell_type": "code",
   "execution_count": null,
   "metadata": {},
   "outputs": [],
   "source": []
  },
  {
   "cell_type": "code",
   "execution_count": null,
   "metadata": {},
   "outputs": [],
   "source": []
  },
  {
   "cell_type": "code",
   "execution_count": null,
   "metadata": {},
   "outputs": [],
   "source": []
  },
  {
   "cell_type": "code",
   "execution_count": null,
   "metadata": {},
   "outputs": [],
   "source": []
  },
  {
   "cell_type": "code",
   "execution_count": null,
   "metadata": {
    "collapsed": true
   },
   "outputs": [],
   "source": []
  },
  {
   "cell_type": "code",
   "execution_count": null,
   "metadata": {
    "collapsed": true
   },
   "outputs": [],
   "source": []
  },
  {
   "cell_type": "code",
   "execution_count": 148,
   "metadata": {
    "collapsed": true
   },
   "outputs": [
    {
     "data": {
      "text/html": [
       "<div>\n",
       "<style>\n",
       "    .dataframe thead tr:only-child th {\n",
       "        text-align: right;\n",
       "    }\n",
       "\n",
       "    .dataframe thead th {\n",
       "        text-align: left;\n",
       "    }\n",
       "\n",
       "    .dataframe tbody tr th {\n",
       "        vertical-align: top;\n",
       "    }\n",
       "</style>\n",
       "<table border=\"1\" class=\"dataframe\">\n",
       "  <thead>\n",
       "    <tr style=\"text-align: right;\">\n",
       "      <th></th>\n",
       "      <th>Key</th>\n",
       "      <th>CouncilDistrict</th>\n",
       "      <th>UF</th>\n",
       "      <th>XCoord</th>\n",
       "      <th>YCoord</th>\n",
       "      <th>RIN</th>\n",
       "      <th>DateOccurred</th>\n",
       "      <th>TimeOccurred</th>\n",
       "      <th>ClearanceDate</th>\n",
       "      <th>GOReportDate</th>\n",
       "      <th>...</th>\n",
       "      <th>NatureOfContact</th>\n",
       "      <th>GOHighestOffenseDesc</th>\n",
       "      <th>NumberShots</th>\n",
       "      <th>WeaponUsed1</th>\n",
       "      <th>WeaponUsed2</th>\n",
       "      <th>WeaponUsed3</th>\n",
       "      <th>WeaponUsed4</th>\n",
       "      <th>WeaponUsed5</th>\n",
       "      <th>ClearanceStatus</th>\n",
       "      <th>MasterSubjectID</th>\n",
       "    </tr>\n",
       "  </thead>\n",
       "  <tbody>\n",
       "    <tr>\n",
       "      <th>3292</th>\n",
       "      <td>2.015364e+10</td>\n",
       "      <td>9.0</td>\n",
       "      <td>False</td>\n",
       "      <td>3115522.0</td>\n",
       "      <td>10070515.0</td>\n",
       "      <td>170264.0</td>\n",
       "      <td>12/30/2015 12:00:00 AM</td>\n",
       "      <td>0245</td>\n",
       "      <td>3-Feb-15</td>\n",
       "      <td>2-Feb-15</td>\n",
       "      <td>...</td>\n",
       "      <td>NaN</td>\n",
       "      <td>THEFT</td>\n",
       "      <td>NaN</td>\n",
       "      <td>WEAPONLESS (PRESSURE POINTS/KICKS/HAND)</td>\n",
       "      <td>NaN</td>\n",
       "      <td>NaN</td>\n",
       "      <td>NaN</td>\n",
       "      <td>NaN</td>\n",
       "      <td>N</td>\n",
       "      <td>459357086: 20153640113</td>\n",
       "    </tr>\n",
       "    <tr>\n",
       "      <th>3296</th>\n",
       "      <td>2.015365e+10</td>\n",
       "      <td>9.0</td>\n",
       "      <td>False</td>\n",
       "      <td>3115416.0</td>\n",
       "      <td>10070416.0</td>\n",
       "      <td>169873.0</td>\n",
       "      <td>12/31/2015 12:00:00 AM</td>\n",
       "      <td></td>\n",
       "      <td>12-Feb-15</td>\n",
       "      <td>2-Feb-15</td>\n",
       "      <td>...</td>\n",
       "      <td>NaN</td>\n",
       "      <td>THEFT</td>\n",
       "      <td>NaN</td>\n",
       "      <td>CHEMICAL AGENT - O C SPRAY</td>\n",
       "      <td>NaN</td>\n",
       "      <td>NaN</td>\n",
       "      <td>NaN</td>\n",
       "      <td>NaN</td>\n",
       "      <td>N</td>\n",
       "      <td>211288398: 20153652230</td>\n",
       "    </tr>\n",
       "    <tr>\n",
       "      <th>3298</th>\n",
       "      <td>2.015365e+10</td>\n",
       "      <td>1.0</td>\n",
       "      <td>False</td>\n",
       "      <td>3121574.0</td>\n",
       "      <td>10071826.0</td>\n",
       "      <td>170006.0</td>\n",
       "      <td>12/31/2015 12:00:00 AM</td>\n",
       "      <td>1550</td>\n",
       "      <td>16-Mar-15</td>\n",
       "      <td>2-Feb-15</td>\n",
       "      <td>...</td>\n",
       "      <td>NaN</td>\n",
       "      <td>THEFT</td>\n",
       "      <td>NaN</td>\n",
       "      <td>WEAPONLESS (PRESSURE POINTS/KICKS/HAND)</td>\n",
       "      <td>NaN</td>\n",
       "      <td>NaN</td>\n",
       "      <td>NaN</td>\n",
       "      <td>NaN</td>\n",
       "      <td>N</td>\n",
       "      <td>458987405: 20153650995</td>\n",
       "    </tr>\n",
       "    <tr>\n",
       "      <th>3299</th>\n",
       "      <td>2.015365e+10</td>\n",
       "      <td>3.0</td>\n",
       "      <td>False</td>\n",
       "      <td>3117764.0</td>\n",
       "      <td>10056344.0</td>\n",
       "      <td>170046.0</td>\n",
       "      <td>12/31/2015 12:00:00 AM</td>\n",
       "      <td>2337</td>\n",
       "      <td>11-Mar-15</td>\n",
       "      <td>2-Feb-15</td>\n",
       "      <td>...</td>\n",
       "      <td>NaN</td>\n",
       "      <td>THEFT</td>\n",
       "      <td>NaN</td>\n",
       "      <td>WEAPONLESS (PRESSURE POINTS/KICKS/HAND)</td>\n",
       "      <td>NaN</td>\n",
       "      <td>NaN</td>\n",
       "      <td>NaN</td>\n",
       "      <td>NaN</td>\n",
       "      <td>N</td>\n",
       "      <td>459358256: 20153651957</td>\n",
       "    </tr>\n",
       "    <tr>\n",
       "      <th>3301</th>\n",
       "      <td>2.015365e+10</td>\n",
       "      <td>8.0</td>\n",
       "      <td>False</td>\n",
       "      <td>3074396.0</td>\n",
       "      <td>10053463.0</td>\n",
       "      <td>170104.0</td>\n",
       "      <td>12/31/2015 12:00:00 AM</td>\n",
       "      <td>1353</td>\n",
       "      <td>28-Apr-15</td>\n",
       "      <td>2-Feb-15</td>\n",
       "      <td>...</td>\n",
       "      <td>NaN</td>\n",
       "      <td>BREACH OF COMPUTER SECURITY</td>\n",
       "      <td>NaN</td>\n",
       "      <td>WEAPONLESS (PRESSURE POINTS/KICKS/HAND)</td>\n",
       "      <td>NaN</td>\n",
       "      <td>NaN</td>\n",
       "      <td>NaN</td>\n",
       "      <td>NaN</td>\n",
       "      <td>N</td>\n",
       "      <td>253427997: 20153650763</td>\n",
       "    </tr>\n",
       "  </tbody>\n",
       "</table>\n",
       "<p>5 rows × 39 columns</p>\n",
       "</div>"
      ],
      "text/plain": [
       "               Key  CouncilDistrict     UF     XCoord      YCoord       RIN  \\\n",
       "3292  2.015364e+10              9.0  False  3115522.0  10070515.0  170264.0   \n",
       "3296  2.015365e+10              9.0  False  3115416.0  10070416.0  169873.0   \n",
       "3298  2.015365e+10              1.0  False  3121574.0  10071826.0  170006.0   \n",
       "3299  2.015365e+10              3.0  False  3117764.0  10056344.0  170046.0   \n",
       "3301  2.015365e+10              8.0  False  3074396.0  10053463.0  170104.0   \n",
       "\n",
       "                DateOccurred TimeOccurred ClearanceDate GOReportDate  \\\n",
       "3292  12/30/2015 12:00:00 AM         0245      3-Feb-15     2-Feb-15   \n",
       "3296  12/31/2015 12:00:00 AM                  12-Feb-15     2-Feb-15   \n",
       "3298  12/31/2015 12:00:00 AM         1550     16-Mar-15     2-Feb-15   \n",
       "3299  12/31/2015 12:00:00 AM         2337     11-Mar-15     2-Feb-15   \n",
       "3301  12/31/2015 12:00:00 AM         1353     28-Apr-15     2-Feb-15   \n",
       "\n",
       "               ...            NatureOfContact            GOHighestOffenseDesc  \\\n",
       "3292           ...                        NaN  THEFT                            \n",
       "3296           ...                        NaN  THEFT                            \n",
       "3298           ...                        NaN  THEFT                            \n",
       "3299           ...                        NaN  THEFT                            \n",
       "3301           ...                        NaN  BREACH OF COMPUTER SECURITY      \n",
       "\n",
       "     NumberShots                              WeaponUsed1  WeaponUsed2  \\\n",
       "3292         NaN  WEAPONLESS (PRESSURE POINTS/KICKS/HAND)          NaN   \n",
       "3296         NaN               CHEMICAL AGENT - O C SPRAY          NaN   \n",
       "3298         NaN  WEAPONLESS (PRESSURE POINTS/KICKS/HAND)          NaN   \n",
       "3299         NaN  WEAPONLESS (PRESSURE POINTS/KICKS/HAND)          NaN   \n",
       "3301         NaN  WEAPONLESS (PRESSURE POINTS/KICKS/HAND)          NaN   \n",
       "\n",
       "     WeaponUsed3 WeaponUsed4  WeaponUsed5 ClearanceStatus  \\\n",
       "3292         NaN         NaN          NaN               N   \n",
       "3296         NaN         NaN          NaN               N   \n",
       "3298         NaN         NaN          NaN               N   \n",
       "3299         NaN         NaN          NaN               N   \n",
       "3301         NaN         NaN          NaN               N   \n",
       "\n",
       "             MasterSubjectID  \n",
       "3292  459357086: 20153640113  \n",
       "3296  211288398: 20153652230  \n",
       "3298  458987405: 20153650995  \n",
       "3299  459358256: 20153651957  \n",
       "3301  253427997: 20153650763  \n",
       "\n",
       "[5 rows x 39 columns]"
      ]
     },
     "execution_count": 148,
     "metadata": {},
     "output_type": "execute_result"
    }
   ],
   "source": []
  },
  {
   "cell_type": "code",
   "execution_count": null,
   "metadata": {
    "collapsed": true
   },
   "outputs": [],
   "source": []
  },
  {
   "cell_type": "code",
   "execution_count": null,
   "metadata": {},
   "outputs": [],
   "source": []
  },
  {
   "cell_type": "code",
   "execution_count": null,
   "metadata": {},
   "outputs": [],
   "source": []
  },
  {
   "cell_type": "code",
   "execution_count": null,
   "metadata": {},
   "outputs": [],
   "source": []
  },
  {
   "cell_type": "code",
   "execution_count": null,
   "metadata": {
    "collapsed": true
   },
   "outputs": [],
   "source": []
  },
  {
   "cell_type": "code",
   "execution_count": null,
   "metadata": {
    "collapsed": true
   },
   "outputs": [],
   "source": []
  },
  {
   "cell_type": "code",
   "execution_count": null,
   "metadata": {
    "collapsed": true
   },
   "outputs": [],
   "source": [
    "\n"
   ]
  },
  {
   "cell_type": "code",
   "execution_count": null,
   "metadata": {},
   "outputs": [],
   "source": []
  },
  {
   "cell_type": "code",
   "execution_count": null,
   "metadata": {},
   "outputs": [],
   "source": []
  },
  {
   "cell_type": "code",
   "execution_count": null,
   "metadata": {
    "collapsed": true
   },
   "outputs": [],
   "source": [
    "\n",
    "\n",
    "    "
   ]
  },
  {
   "cell_type": "code",
   "execution_count": null,
   "metadata": {
    "collapsed": true
   },
   "outputs": [],
   "source": []
  },
  {
   "cell_type": "code",
   "execution_count": null,
   "metadata": {},
   "outputs": [],
   "source": []
  },
  {
   "cell_type": "code",
   "execution_count": null,
   "metadata": {},
   "outputs": [],
   "source": [
    "\n",
    "\n",
    "\n",
    "\n"
   ]
  },
  {
   "cell_type": "code",
   "execution_count": 92,
   "metadata": {
    "collapsed": true
   },
   "outputs": [],
   "source": [
    "\n"
   ]
  },
  {
   "cell_type": "code",
   "execution_count": null,
   "metadata": {},
   "outputs": [],
   "source": [
    "\n"
   ]
  },
  {
   "cell_type": "code",
   "execution_count": null,
   "metadata": {},
   "outputs": [],
   "source": []
  },
  {
   "cell_type": "code",
   "execution_count": null,
   "metadata": {},
   "outputs": [],
   "source": []
  },
  {
   "cell_type": "code",
   "execution_count": null,
   "metadata": {
    "collapsed": true
   },
   "outputs": [],
   "source": []
  },
  {
   "cell_type": "code",
   "execution_count": null,
   "metadata": {},
   "outputs": [],
   "source": []
  },
  {
   "cell_type": "code",
   "execution_count": null,
   "metadata": {},
   "outputs": [],
   "source": []
  },
  {
   "cell_type": "code",
   "execution_count": null,
   "metadata": {},
   "outputs": [],
   "source": []
  },
  {
   "cell_type": "code",
   "execution_count": null,
   "metadata": {},
   "outputs": [],
   "source": []
  },
  {
   "cell_type": "code",
   "execution_count": null,
   "metadata": {},
   "outputs": [],
   "source": []
  },
  {
   "cell_type": "code",
   "execution_count": null,
   "metadata": {},
   "outputs": [],
   "source": []
  },
  {
   "cell_type": "code",
   "execution_count": null,
   "metadata": {},
   "outputs": [],
   "source": []
  },
  {
   "cell_type": "code",
   "execution_count": null,
   "metadata": {
    "collapsed": true
   },
   "outputs": [],
   "source": [
    "#Merging script with old stuff in it (e.g. concat)\n",
    "\n",
    "#Renaming columns\n",
    "AUF2015.rename(columns={' Primary Key': 'Key', ' Effect on Officer': ' OfficerEffects', 'Nature of Contact':'NatureOfContact', 'Officer Yrs of Service': 'OfficerYrsServ'}, inplace=True)\n",
    "AAnn.rename(columns={'HighestNIBRS/UCROffenseDescription':'NIBRS', 'Council District': 'Council_District'}, inplace=True)\n",
    "\n",
    "#Removing spaces in column names\n",
    "AUF2015.columns = AUF2015.columns.str.replace('\\s+','')\n",
    "AAnn.columns = AAnn.columns.str.replace('\\s+','')\n",
    "\n",
    "#Dropping duplicates from AUF2015 set\n",
    "AUF2015 = AUF2015.drop_duplicates(subset='Key', keep='first', inplace = False)\n",
    "\n",
    "#List of AAnn keys for referencing \n",
    "#AAnnKeys = AAnn.keys().tolist()\n",
    "#AAnnKeys2= [11, 4, 8, 18, 12, 9, 2, 1, 7, 10, 6, 13, 14]\n",
    "    \n",
    "stack = pd.merge(AAnn, AUF2015, left_on='GOPrimaryKey', right_on='Key', how='outer')\n",
    "\n",
    "#Combining datasets\n",
    "#stack = pd.merge([AAnn, AUF2015], a)\n",
    "\n",
    "#Removing hyphens from index names\n",
    "stack.rename(columns={'X-Coordinate':'XCoord', 'Y-Coordinate':'YCoord'}, inplace = True)\n",
    "\n",
    "#Creating Boolean for UF incidents\n",
    "stack['UF'] = stack['AreaCommand'].notnull() | (stack['Key'].notnull() & stack['GOPrimaryKey'].notnull())\n",
    "#stack['AreaCommand'].notnull() | \n",
    "\n",
    "#Copying the info from the AAnn report into the row with the AUF2015 report. \n",
    "#for r in stack['Key'].isin(dupkeylist):\n",
    "#    if r == True:\n",
    "#        for x in AAnnKeys:\n",
    "#            stack[x].fillna(AAnn[x], inplace = True)\n",
    "\n",
    "#Merging key and council district info\n",
    "stack['Key'].fillna(stack['GOPrimaryKey'], inplace=True)\n",
    "stack.drop(['GOPrimaryKey'], axis = 1, inplace = True)\n",
    "\n",
    "stack['CouncilDistrict'].fillna(stack['Council_District'], inplace=True)\n",
    "stack.drop(['Council_District'], axis = 1, inplace = True)\n",
    "\n",
    "stack['XCoord'].fillna(stack['GOXCoordinate'], inplace=True)\n",
    "stack.drop(['GOXCoordinate'], axis = 1, inplace = True)\n",
    "\n",
    "stack['YCoord'].fillna(stack['GOYCoordinate'], inplace=True)\n",
    "stack.drop(['GOYCoordinate'], axis = 1, inplace = True)\n",
    "\n",
    "#Dropping the crime reports that are present in both AAnn and AUF2015\n",
    "stackTest = stack.drop_duplicates(subset='Key', keep='last', inplace = False)\n",
    "\n",
    "#Reordering index for ease of navigating dataset\n",
    "#stack = stack.reindex_axis(['Key','CouncilDistrict','UF','XCoord','YCoord','RIN',\n",
    "                           # 'DateOccurred','TimeOccurred','ClearanceDate', 'GOReportDate',\n",
    "                            #'R2RLevel','NIBRS','AreaCommand',  'Location', 'GOCensusTract',\n",
    "                            #'GODistrict','GOLocation','GOLocationZip','OfficerEffects','OfficerCommissionDate',\n",
    "                            #'OfficerYrsServ', 'OfficerOrganizationDesc', 'ReasonDesc','SubjectConductDesc', 'SubjectEffects',\n",
    "                            #'SubjectEthnicity', 'SubjectRace', 'SubjectResistance', 'SubjectSex', 'NatureOfContact',\n",
    "                            #'GOHighestOffenseDesc', 'NumberShots', 'WeaponUsed1', 'WeaponUsed2', 'WeaponUsed3', 'WeaponUsed4',\n",
    "                            #'WeaponUsed5', 'ClearanceStatus','MasterSubjectID'], axis=1)\n",
    "\n",
    "\n",
    "#Sorting by council district\n",
    "#stack.sort_values(('CouncilDistrict'), inplace = True)\n",
    "\n",
    "#Resetting index to Key\n",
    "#stack.set_index(['Key'], drop = False, inplace = True)\n",
    "\n",
    "#Saving to csv\n",
    "#stack.to_csv('stack.csv')\n",
    "\n",
    "#Saving to csv\n",
    "#stack.to_csv('stackTestAgain.csv')"
   ]
  },
  {
   "cell_type": "code",
   "execution_count": null,
   "metadata": {
    "collapsed": true
   },
   "outputs": [],
   "source": []
  },
  {
   "cell_type": "code",
   "execution_count": null,
   "metadata": {
    "collapsed": true
   },
   "outputs": [],
   "source": []
  },
  {
   "cell_type": "code",
   "execution_count": null,
   "metadata": {
    "collapsed": true
   },
   "outputs": [],
   "source": []
  },
  {
   "cell_type": "code",
   "execution_count": null,
   "metadata": {
    "collapsed": true
   },
   "outputs": [],
   "source": []
  },
  {
   "cell_type": "code",
   "execution_count": null,
   "metadata": {
    "collapsed": true
   },
   "outputs": [],
   "source": []
  },
  {
   "cell_type": "code",
   "execution_count": null,
   "metadata": {
    "collapsed": true
   },
   "outputs": [],
   "source": []
  },
  {
   "cell_type": "code",
   "execution_count": null,
   "metadata": {
    "collapsed": true
   },
   "outputs": [],
   "source": []
  }
 ],
 "metadata": {
  "kernelspec": {
   "display_name": "Python 3",
   "language": "python",
   "name": "python3"
  },
  "language_info": {
   "codemirror_mode": {
    "name": "ipython",
    "version": 3
   },
   "file_extension": ".py",
   "mimetype": "text/x-python",
   "name": "python",
   "nbconvert_exporter": "python",
   "pygments_lexer": "ipython3",
   "version": "3.6.1"
  }
 },
 "nbformat": 4,
 "nbformat_minor": 2
}
